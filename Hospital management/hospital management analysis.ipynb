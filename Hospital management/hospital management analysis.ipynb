{
 "cells": [
  {
   "cell_type": "markdown",
   "id": "61a575d7",
   "metadata": {},
   "source": [
    "# Analyzing the hospital management datasets"
   ]
  },
  {
   "cell_type": "markdown",
   "id": "c9820e6b",
   "metadata": {},
   "source": [
    "# 💰 Financial Performance & Revenue Analysis"
   ]
  },
  {
   "cell_type": "code",
   "execution_count": 2,
   "id": "4534a443",
   "metadata": {},
   "outputs": [],
   "source": [
    "#import the necessary librabries\n",
    "import pandas as pd\n",
    "import matplotlib.pyplot as plt\n",
    "import seaborn as sns\n"
   ]
  },
  {
   "cell_type": "code",
   "execution_count": 3,
   "id": "51bd69c0",
   "metadata": {},
   "outputs": [
    {
     "data": {
      "application/vnd.microsoft.datawrangler.viewer.v0+json": {
       "columns": [
        {
         "name": "index",
         "rawType": "int64",
         "type": "integer"
        },
        {
         "name": "bill_id",
         "rawType": "object",
         "type": "string"
        },
        {
         "name": "patient_id",
         "rawType": "object",
         "type": "string"
        },
        {
         "name": "treatment_id",
         "rawType": "object",
         "type": "string"
        },
        {
         "name": "bill_date",
         "rawType": "object",
         "type": "string"
        },
        {
         "name": "amount",
         "rawType": "float64",
         "type": "float"
        },
        {
         "name": "payment_method",
         "rawType": "object",
         "type": "string"
        },
        {
         "name": "payment_status",
         "rawType": "object",
         "type": "string"
        }
       ],
       "ref": "bd614f30-ac07-4789-b5f6-a64167f6870d",
       "rows": [
        [
         "0",
         "B001",
         "P034",
         "T001",
         "2023-08-09",
         "3941.97",
         "Insurance",
         "Pending"
        ],
        [
         "1",
         "B002",
         "P032",
         "T002",
         "2023-06-09",
         "4158.44",
         "Insurance",
         "Paid"
        ],
        [
         "2",
         "B003",
         "P048",
         "T003",
         "2023-06-28",
         "3731.55",
         "Insurance",
         "Paid"
        ],
        [
         "3",
         "B004",
         "P025",
         "T004",
         "2023-09-01",
         "4799.86",
         "Insurance",
         "Failed"
        ],
        [
         "4",
         "B005",
         "P040",
         "T005",
         "2023-07-06",
         "582.05",
         "Credit Card",
         "Pending"
        ],
        [
         "5",
         "B006",
         "P045",
         "T006",
         "2023-06-19",
         "1381.0",
         "Insurance",
         "Pending"
        ],
        [
         "6",
         "B007",
         "P001",
         "T007",
         "2023-04-09",
         "534.03",
         "Cash",
         "Failed"
        ],
        [
         "7",
         "B008",
         "P016",
         "T008",
         "2023-05-24",
         "3413.64",
         "Cash",
         "Failed"
        ],
        [
         "8",
         "B009",
         "P039",
         "T009",
         "2023-03-05",
         "4541.14",
         "Credit Card",
         "Paid"
        ],
        [
         "9",
         "B010",
         "P005",
         "T010",
         "2023-01-13",
         "1595.67",
         "Cash",
         "Paid"
        ],
        [
         "10",
         "B011",
         "P022",
         "T011",
         "2023-11-12",
         "4671.66",
         "Cash",
         "Failed"
        ],
        [
         "11",
         "B012",
         "P029",
         "T012",
         "2023-05-07",
         "771.2",
         "Insurance",
         "Pending"
        ],
        [
         "12",
         "B013",
         "P003",
         "T013",
         "2023-08-16",
         "4704.96",
         "Cash",
         "Paid"
        ],
        [
         "13",
         "B014",
         "P012",
         "T014",
         "2023-05-25",
         "2082.3",
         "Credit Card",
         "Paid"
        ],
        [
         "14",
         "B015",
         "P026",
         "T015",
         "2023-01-15",
         "956.39",
         "Insurance",
         "Pending"
        ],
        [
         "15",
         "B016",
         "P016",
         "T016",
         "2023-06-30",
         "2686.42",
         "Insurance",
         "Paid"
        ],
        [
         "16",
         "B017",
         "P037",
         "T017",
         "2023-07-11",
         "1655.49",
         "Credit Card",
         "Pending"
        ],
        [
         "17",
         "B018",
         "P022",
         "T018",
         "2023-11-14",
         "1781.93",
         "Insurance",
         "Pending"
        ],
        [
         "18",
         "B019",
         "P029",
         "T019",
         "2023-02-06",
         "1882.8",
         "Insurance",
         "Pending"
        ],
        [
         "19",
         "B020",
         "P014",
         "T020",
         "2023-12-05",
         "4113.62",
         "Credit Card",
         "Failed"
        ],
        [
         "20",
         "B021",
         "P028",
         "T021",
         "2023-04-24",
         "2926.23",
         "Insurance",
         "Failed"
        ],
        [
         "21",
         "B022",
         "P005",
         "T022",
         "2023-11-14",
         "1900.88",
         "Credit Card",
         "Failed"
        ],
        [
         "22",
         "B023",
         "P047",
         "T023",
         "2023-05-09",
         "3246.5",
         "Credit Card",
         "Pending"
        ],
        [
         "23",
         "B024",
         "P049",
         "T024",
         "2023-06-21",
         "3722.68",
         "Cash",
         "Pending"
        ],
        [
         "24",
         "B025",
         "P030",
         "T025",
         "2023-02-25",
         "1726.81",
         "Cash",
         "Failed"
        ],
        [
         "25",
         "B026",
         "P046",
         "T026",
         "2023-03-17",
         "2360.97",
         "Insurance",
         "Paid"
        ],
        [
         "26",
         "B027",
         "P005",
         "T027",
         "2023-11-14",
         "1048.49",
         "Insurance",
         "Pending"
        ],
        [
         "27",
         "B028",
         "P012",
         "T028",
         "2023-10-29",
         "1315.17",
         "Credit Card",
         "Paid"
        ],
        [
         "28",
         "B029",
         "P016",
         "T029",
         "2023-06-25",
         "3565.03",
         "Insurance",
         "Paid"
        ],
        [
         "29",
         "B030",
         "P026",
         "T030",
         "2023-08-29",
         "1316.47",
         "Credit Card",
         "Pending"
        ],
        [
         "30",
         "B031",
         "P026",
         "T031",
         "2023-04-04",
         "2863.24",
         "Credit Card",
         "Pending"
        ],
        [
         "31",
         "B032",
         "P048",
         "T032",
         "2023-11-06",
         "3690.71",
         "Insurance",
         "Paid"
        ],
        [
         "32",
         "B033",
         "P021",
         "T033",
         "2023-09-23",
         "980.95",
         "Credit Card",
         "Paid"
        ],
        [
         "33",
         "B034",
         "P039",
         "T034",
         "2023-06-13",
         "3052.9",
         "Cash",
         "Failed"
        ],
        [
         "34",
         "B035",
         "P036",
         "T035",
         "2023-04-18",
         "1654.53",
         "Insurance",
         "Failed"
        ],
        [
         "35",
         "B036",
         "P033",
         "T036",
         "2023-01-08",
         "4833.17",
         "Cash",
         "Pending"
        ],
        [
         "36",
         "B037",
         "P030",
         "T037",
         "2023-03-28",
         "2675.96",
         "Insurance",
         "Failed"
        ],
        [
         "37",
         "B038",
         "P037",
         "T038",
         "2023-02-23",
         "4126.97",
         "Credit Card",
         "Failed"
        ],
        [
         "38",
         "B039",
         "P023",
         "T039",
         "2023-04-17",
         "2976.02",
         "Insurance",
         "Failed"
        ],
        [
         "39",
         "B040",
         "P010",
         "T040",
         "2023-03-27",
         "695.36",
         "Cash",
         "Failed"
        ],
        [
         "40",
         "B041",
         "P005",
         "T041",
         "2023-01-01",
         "3349.18",
         "Credit Card",
         "Paid"
        ],
        [
         "41",
         "B042",
         "P036",
         "T042",
         "2023-03-21",
         "4781.32",
         "Insurance",
         "Pending"
        ],
        [
         "42",
         "B043",
         "P034",
         "T043",
         "2023-03-29",
         "3207.25",
         "Insurance",
         "Failed"
        ],
        [
         "43",
         "B044",
         "P031",
         "T044",
         "2023-09-20",
         "4186.35",
         "Insurance",
         "Paid"
        ],
        [
         "44",
         "B045",
         "P010",
         "T045",
         "2023-09-28",
         "4478.93",
         "Cash",
         "Paid"
        ],
        [
         "45",
         "B046",
         "P019",
         "T046",
         "2023-12-20",
         "1526.36",
         "Cash",
         "Paid"
        ],
        [
         "46",
         "B047",
         "P032",
         "T047",
         "2023-05-02",
         "1454.2",
         "Insurance",
         "Failed"
        ],
        [
         "47",
         "B048",
         "P001",
         "T048",
         "2023-01-16",
         "3249.41",
         "Credit Card",
         "Failed"
        ],
        [
         "48",
         "B049",
         "P005",
         "T049",
         "2023-04-30",
         "2349.63",
         "Credit Card",
         "Pending"
        ],
        [
         "49",
         "B050",
         "P045",
         "T050",
         "2023-08-16",
         "4279.38",
         "Cash",
         "Failed"
        ]
       ],
       "shape": {
        "columns": 7,
        "rows": 200
       }
      },
      "text/html": [
       "<div>\n",
       "<style scoped>\n",
       "    .dataframe tbody tr th:only-of-type {\n",
       "        vertical-align: middle;\n",
       "    }\n",
       "\n",
       "    .dataframe tbody tr th {\n",
       "        vertical-align: top;\n",
       "    }\n",
       "\n",
       "    .dataframe thead th {\n",
       "        text-align: right;\n",
       "    }\n",
       "</style>\n",
       "<table border=\"1\" class=\"dataframe\">\n",
       "  <thead>\n",
       "    <tr style=\"text-align: right;\">\n",
       "      <th></th>\n",
       "      <th>bill_id</th>\n",
       "      <th>patient_id</th>\n",
       "      <th>treatment_id</th>\n",
       "      <th>bill_date</th>\n",
       "      <th>amount</th>\n",
       "      <th>payment_method</th>\n",
       "      <th>payment_status</th>\n",
       "    </tr>\n",
       "  </thead>\n",
       "  <tbody>\n",
       "    <tr>\n",
       "      <th>0</th>\n",
       "      <td>B001</td>\n",
       "      <td>P034</td>\n",
       "      <td>T001</td>\n",
       "      <td>2023-08-09</td>\n",
       "      <td>3941.97</td>\n",
       "      <td>Insurance</td>\n",
       "      <td>Pending</td>\n",
       "    </tr>\n",
       "    <tr>\n",
       "      <th>1</th>\n",
       "      <td>B002</td>\n",
       "      <td>P032</td>\n",
       "      <td>T002</td>\n",
       "      <td>2023-06-09</td>\n",
       "      <td>4158.44</td>\n",
       "      <td>Insurance</td>\n",
       "      <td>Paid</td>\n",
       "    </tr>\n",
       "    <tr>\n",
       "      <th>2</th>\n",
       "      <td>B003</td>\n",
       "      <td>P048</td>\n",
       "      <td>T003</td>\n",
       "      <td>2023-06-28</td>\n",
       "      <td>3731.55</td>\n",
       "      <td>Insurance</td>\n",
       "      <td>Paid</td>\n",
       "    </tr>\n",
       "    <tr>\n",
       "      <th>3</th>\n",
       "      <td>B004</td>\n",
       "      <td>P025</td>\n",
       "      <td>T004</td>\n",
       "      <td>2023-09-01</td>\n",
       "      <td>4799.86</td>\n",
       "      <td>Insurance</td>\n",
       "      <td>Failed</td>\n",
       "    </tr>\n",
       "    <tr>\n",
       "      <th>4</th>\n",
       "      <td>B005</td>\n",
       "      <td>P040</td>\n",
       "      <td>T005</td>\n",
       "      <td>2023-07-06</td>\n",
       "      <td>582.05</td>\n",
       "      <td>Credit Card</td>\n",
       "      <td>Pending</td>\n",
       "    </tr>\n",
       "    <tr>\n",
       "      <th>...</th>\n",
       "      <td>...</td>\n",
       "      <td>...</td>\n",
       "      <td>...</td>\n",
       "      <td>...</td>\n",
       "      <td>...</td>\n",
       "      <td>...</td>\n",
       "      <td>...</td>\n",
       "    </tr>\n",
       "    <tr>\n",
       "      <th>195</th>\n",
       "      <td>B196</td>\n",
       "      <td>P045</td>\n",
       "      <td>T196</td>\n",
       "      <td>2023-10-26</td>\n",
       "      <td>2477.80</td>\n",
       "      <td>Cash</td>\n",
       "      <td>Pending</td>\n",
       "    </tr>\n",
       "    <tr>\n",
       "      <th>196</th>\n",
       "      <td>B197</td>\n",
       "      <td>P001</td>\n",
       "      <td>T197</td>\n",
       "      <td>2023-04-01</td>\n",
       "      <td>975.49</td>\n",
       "      <td>Cash</td>\n",
       "      <td>Pending</td>\n",
       "    </tr>\n",
       "    <tr>\n",
       "      <th>197</th>\n",
       "      <td>B198</td>\n",
       "      <td>P022</td>\n",
       "      <td>T198</td>\n",
       "      <td>2023-05-15</td>\n",
       "      <td>3383.72</td>\n",
       "      <td>Cash</td>\n",
       "      <td>Failed</td>\n",
       "    </tr>\n",
       "    <tr>\n",
       "      <th>198</th>\n",
       "      <td>B199</td>\n",
       "      <td>P017</td>\n",
       "      <td>T199</td>\n",
       "      <td>2023-05-01</td>\n",
       "      <td>1472.17</td>\n",
       "      <td>Credit Card</td>\n",
       "      <td>Paid</td>\n",
       "    </tr>\n",
       "    <tr>\n",
       "      <th>199</th>\n",
       "      <td>B200</td>\n",
       "      <td>P007</td>\n",
       "      <td>T200</td>\n",
       "      <td>2023-12-30</td>\n",
       "      <td>3288.15</td>\n",
       "      <td>Insurance</td>\n",
       "      <td>Paid</td>\n",
       "    </tr>\n",
       "  </tbody>\n",
       "</table>\n",
       "<p>200 rows × 7 columns</p>\n",
       "</div>"
      ],
      "text/plain": [
       "    bill_id patient_id treatment_id   bill_date   amount payment_method  \\\n",
       "0      B001       P034         T001  2023-08-09  3941.97      Insurance   \n",
       "1      B002       P032         T002  2023-06-09  4158.44      Insurance   \n",
       "2      B003       P048         T003  2023-06-28  3731.55      Insurance   \n",
       "3      B004       P025         T004  2023-09-01  4799.86      Insurance   \n",
       "4      B005       P040         T005  2023-07-06   582.05    Credit Card   \n",
       "..      ...        ...          ...         ...      ...            ...   \n",
       "195    B196       P045         T196  2023-10-26  2477.80           Cash   \n",
       "196    B197       P001         T197  2023-04-01   975.49           Cash   \n",
       "197    B198       P022         T198  2023-05-15  3383.72           Cash   \n",
       "198    B199       P017         T199  2023-05-01  1472.17    Credit Card   \n",
       "199    B200       P007         T200  2023-12-30  3288.15      Insurance   \n",
       "\n",
       "    payment_status  \n",
       "0          Pending  \n",
       "1             Paid  \n",
       "2             Paid  \n",
       "3           Failed  \n",
       "4          Pending  \n",
       "..             ...  \n",
       "195        Pending  \n",
       "196        Pending  \n",
       "197         Failed  \n",
       "198           Paid  \n",
       "199           Paid  \n",
       "\n",
       "[200 rows x 7 columns]"
      ]
     },
     "execution_count": 3,
     "metadata": {},
     "output_type": "execute_result"
    }
   ],
   "source": [
    "# import the billing dataset\n",
    "billing_data = pd.read_csv('C:/Users/enosa/OneDrive/Desktop/Data Analysis/Datasets/Hospital management/billing.csv')\n",
    "billing_data"
   ]
  },
  {
   "cell_type": "code",
   "execution_count": 4,
   "id": "0a23b500",
   "metadata": {},
   "outputs": [],
   "source": [
    "# Convert date column to datetime if not already\n",
    "billing_data['date'] = pd.to_datetime(billing_data['bill_date'])\n",
    "\n",
    "# Extract month and year for grouping\n",
    "billing_data['month'] = billing_data['date'].dt.to_period('M').astype(str)\n",
    "\n",
    "# Group by month and sum the amount\n",
    "monthly_revenue = billing_data.groupby('month')['amount'].sum().reset_index()"
   ]
  },
  {
   "cell_type": "code",
   "execution_count": 5,
   "id": "f164b1d4",
   "metadata": {},
   "outputs": [
    {
     "data": {
      "image/png": "[encoded data removed]",
      "text/plain": [
       "<Figure size 1200x600 with 1 Axes>"
      ]
     },
     "metadata": {},
     "output_type": "display_data"
    }
   ],
   "source": [
    "#monthly revenue trend\n",
    "billing_data['date'] = pd.to_datetime(billing_data['date'])\n",
    "billing_data['month'] = billing_data['date'].dt.to_period('M').astype(str)\n",
    "monthly_revenue = billing_data.groupby('month')['amount'].sum().reset_index()\n",
    "plt.figure(figsize=(12, 6))\n",
    "sns.lineplot(data=monthly_revenue, x='month', y='amount', marker='o')\n",
    "plt.title('Monthly Revenue Trend')\n",
    "plt.xlabel('Month')\n",
    "plt.ylabel('Total Revenue')\n",
    "plt.xticks(rotation=45)\n",
    "plt.grid()\n",
    "\n",
    "# Add data labels\n",
    "for i, row in monthly_revenue.iterrows():\n",
    "    plt.text(i, row['amount'], f\"{row['amount']:.0f}\", ha='center', va='bottom', fontsize=9)\n",
    "\n",
    "plt.show()"
   ]
  },
  {
   "cell_type": "code",
   "execution_count": null,
   "id": "57c2aee6",
   "metadata": {},
   "outputs": [
    {
     "name": "stdout",
     "output_type": "stream",
     "text": [
      "payment_status\n",
      "Pending    69\n",
      "Failed     67\n",
      "Paid       64\n",
      "Name: count, dtype: int64\n"
     ]
    },
    {
     "name": "stderr",
     "output_type": "stream",
     "text": [
      "C:\\Users\\enosa\\AppData\\Local\\Temp\\ipykernel_452332\\3442992972.py:5: FutureWarning: \n",
      "\n",
      "Passing `palette` without assigning `hue` is deprecated and will be removed in v0.14.0. Assign the `x` variable to `hue` and set `legend=False` for the same effect.\n",
      "\n",
      "  sns.barplot(x=payment_status_counts.index, y=payment_status_counts.values, palette='viridis')\n"
     ]
    },
    {
     "data": {
      "image/png": "[encoded data removed]",
      "text/plain": [
       "<Figure size 800x600 with 1 Axes>"
      ]
     },
     "metadata": {},
     "output_type": "display_data"
    }
   ],
   "source": [
    "# payment status analysis\n",
    "payment_status_counts = billing_data['payment_status'].value_counts()\n",
    "print(payment_status_counts)\n",
    "plt.figure(figsize=(8, 6))\n",
    "sns.barplot(x=payment_status_counts.index, y=payment_status_counts.values, palette='viridis')\n",
    "plt.title('Payment Status Distribution')\n",
    "plt.xlabel('Payment Status')\n",
    "plt.ylabel('Number of Transactions')\n",
    "plt.grid(axis='y')\n",
    "plt.show()"
   ]
  },
  {
   "cell_type": "code",
   "execution_count": 7,
   "id": "1f84fe15",
   "metadata": {},
   "outputs": [
    {
     "data": {
      "image/png": "[encoded data removed]",
      "text/plain": [
       "<Figure size 1000x600 with 1 Axes>"
      ]
     },
     "metadata": {},
     "output_type": "display_data"
    }
   ],
   "source": [
    "# payment method and their status counts\n",
    "plt.figure(figsize=(10, 6))\n",
    "sns.countplot(data=billing_data, x='payment_method', hue='payment_status', palette='Set2')\n",
    "plt.title('Payment Method vs Payment Status')\n",
    "plt.xlabel('Payment Method')\n",
    "plt.ylabel('Number of Transactions')\n",
    "plt.xticks(rotation=45)\n",
    "plt.legend(title='Payment Status')\n",
    "plt.grid(axis='y')\n",
    "plt.show()\n"
   ]
  },
  {
   "cell_type": "code",
   "execution_count": 8,
   "id": "20f6d222",
   "metadata": {},
   "outputs": [
    {
     "name": "stderr",
     "output_type": "stream",
     "text": [
      "C:\\Users\\enosa\\AppData\\Local\\Temp\\ipykernel_452332\\657246970.py:5: FutureWarning: \n",
      "\n",
      "Passing `palette` without assigning `hue` is deprecated and will be removed in v0.14.0. Assign the `x` variable to `hue` and set `legend=False` for the same effect.\n",
      "\n",
      "  sns.barplot(x=payer_type_counts.index, y=payer_type_counts.values, palette='pastel')\n"
     ]
    },
    {
     "data": {
      "image/png": "[encoded data removed]",
      "text/plain": [
       "<Figure size 600x600 with 1 Axes>"
      ]
     },
     "metadata": {},
     "output_type": "display_data"
    }
   ],
   "source": [
    "# create column for payer type as insurance or self-pay\n",
    "billing_data['payer_type'] = billing_data['payment_method'].apply(lambda x: 'Insurance' if x == 'Insurance' else 'Self-Pay')\n",
    "payer_type_counts = billing_data['payer_type'].value_counts()\n",
    "plt.figure(figsize=(6, 6))\n",
    "sns.barplot(x=payer_type_counts.index, y=payer_type_counts.values, palette='pastel')\n",
    "plt.title('Payer Type Distribution')\n",
    "plt.xlabel('Payer Type')\n",
    "plt.ylabel('Number of Transactions')\n",
    "plt.grid(axis='y')\n",
    "plt.show()"
   ]
  },
  {
   "cell_type": "code",
   "execution_count": 9,
   "id": "02aa4e3f",
   "metadata": {},
   "outputs": [
    {
     "data": {
      "text/plain": [
       "' Hospital Billing Data Analysis – Documentation & Findings\\nDataset Overview\\nThe dataset analyzed contains hospital billing records, including:\\n\\nDate of transaction\\nAmount billed\\nPayment status (e.g., Paid, Unpaid)\\nPayment method (e.g., Insurance, Cash, Card)\\nPayer type (derived as Insurance or Self-Pay)\\nKey Findings\\nMonthly Revenue Trend\\n\\nThe analysis visualized monthly revenue, showing fluctuations in total revenue over time.\\nSome months may show dips or spikes, indicating possible seasonal trends or operational changes.\\nPayment Status Distribution\\n\\nThe majority of transactions are marked as \"Paid,\" but a notable portion remains \"Unpaid.\"\\nHigh unpaid rates can impact cash flow and financial stability.\\nPayment Method vs. Payment Status\\n\\nInsurance is a common payment method, but self-pay (cash/card) transactions are also significant.\\nUnpaid transactions may be more prevalent in certain payment methods.\\nPayer Type Distribution\\n\\nInsurance payments dominate, but self-pay is still a considerable portion.\\nThe balance between insurance and self-pay can affect collection strategies and revenue cycles.\\nProblems Identified\\nUnpaid Transactions: A significant number of bills remain unpaid, especially among self-pay patients.\\nRevenue Fluctuations: Monthly revenue is inconsistent, which may affect budgeting and resource allocation.\\nPossible Solutions\\nImprove Payment Collection: Implement reminders, flexible payment plans, or incentives for early payment, especially targeting self-pay patients.\\nEnhance Insurance Processing: Streamline insurance claim processes to reduce delays and denials.\\nMonitor Revenue Trends: Regularly review revenue trends to identify and address causes of dips (e.g., operational inefficiencies, seasonal factors).\\nPatient Education: Educate patients on payment options and the importance of timely payments.\\nSummary:\\nThe analysis highlights the need for improved payment collection strategies and closer monitoring of revenue trends. Addressing unpaid bills and understanding payment method patterns can help optimize hospital financial performance. '"
      ]
     },
     "execution_count": 9,
     "metadata": {},
     "output_type": "execute_result"
    }
   ],
   "source": [
    "''' Hospital Billing Data Analysis – Documentation & Findings\n",
    "Dataset Overview\n",
    "The dataset analyzed contains hospital billing records, including:\n",
    "\n",
    "Date of transaction\n",
    "Amount billed\n",
    "Payment status (e.g., Paid, Unpaid)\n",
    "Payment method (e.g., Insurance, Cash, Card)\n",
    "Payer type (derived as Insurance or Self-Pay)\n",
    "Key Findings\n",
    "Monthly Revenue Trend\n",
    "\n",
    "The analysis visualized monthly revenue, showing fluctuations in total revenue over time.\n",
    "Some months may show dips or spikes, indicating possible seasonal trends or operational changes.\n",
    "Payment Status Distribution\n",
    "\n",
    "The majority of transactions are marked as \"Paid,\" but a notable portion remains \"Unpaid.\"\n",
    "High unpaid rates can impact cash flow and financial stability.\n",
    "Payment Method vs. Payment Status\n",
    "\n",
    "Insurance is a common payment method, but self-pay (cash/card) transactions are also significant.\n",
    "Unpaid transactions may be more prevalent in certain payment methods.\n",
    "Payer Type Distribution\n",
    "\n",
    "Insurance payments dominate, but self-pay is still a considerable portion.\n",
    "The balance between insurance and self-pay can affect collection strategies and revenue cycles.\n",
    "Problems Identified\n",
    "Unpaid Transactions: A significant number of bills remain unpaid, especially among self-pay patients.\n",
    "Revenue Fluctuations: Monthly revenue is inconsistent, which may affect budgeting and resource allocation.\n",
    "Possible Solutions\n",
    "Improve Payment Collection: Implement reminders, flexible payment plans, or incentives for early payment, especially targeting self-pay patients.\n",
    "Enhance Insurance Processing: Streamline insurance claim processes to reduce delays and denials.\n",
    "Monitor Revenue Trends: Regularly review revenue trends to identify and address causes of dips (e.g., operational inefficiencies, seasonal factors).\n",
    "Patient Education: Educate patients on payment options and the importance of timely payments.\n",
    "Summary:\n",
    "The analysis highlights the need for improved payment collection strategies and closer monitoring of revenue trends. Addressing unpaid bills and understanding payment method patterns can help optimize hospital financial performance. '''"
   ]
  },
  {
   "cell_type": "markdown",
   "id": "ed3e229a",
   "metadata": {},
   "source": [
    "# ⏳ Operational Efficiency & Resource Utilization"
   ]
  },
  {
   "cell_type": "code",
   "execution_count": 10,
   "id": "4bf42d22",
   "metadata": {},
   "outputs": [
    {
     "data": {
      "application/vnd.microsoft.datawrangler.viewer.v0+json": {
       "columns": [
        {
         "name": "index",
         "rawType": "int64",
         "type": "integer"
        },
        {
         "name": "appointment_id",
         "rawType": "object",
         "type": "string"
        },
        {
         "name": "patient_id",
         "rawType": "object",
         "type": "string"
        },
        {
         "name": "doctor_id",
         "rawType": "object",
         "type": "string"
        },
        {
         "name": "appointment_date",
         "rawType": "object",
         "type": "string"
        },
        {
         "name": "appointment_time",
         "rawType": "object",
         "type": "string"
        },
        {
         "name": "reason_for_visit",
         "rawType": "object",
         "type": "string"
        },
        {
         "name": "status",
         "rawType": "object",
         "type": "string"
        }
       ],
       "ref": "4f8b43c3-2d11-4d79-8959-feb7978e131c",
       "rows": [
        [
         "0",
         "A001",
         "P034",
         "D009",
         "2023-08-09",
         "15:15:00",
         "Therapy",
         "Scheduled"
        ],
        [
         "1",
         "A002",
         "P032",
         "D004",
         "2023-06-09",
         "14:30:00",
         "Therapy",
         "No-show"
        ],
        [
         "2",
         "A003",
         "P048",
         "D004",
         "2023-06-28",
         "8:00:00",
         "Consultation",
         "Cancelled"
        ],
        [
         "3",
         "A004",
         "P025",
         "D006",
         "2023-09-01",
         "9:15:00",
         "Consultation",
         "Cancelled"
        ],
        [
         "4",
         "A005",
         "P040",
         "D003",
         "2023-07-06",
         "12:45:00",
         "Emergency",
         "No-show"
        ],
        [
         "5",
         "A006",
         "P045",
         "D006",
         "2023-06-19",
         "16:15:00",
         "Checkup",
         "Scheduled"
        ],
        [
         "6",
         "A007",
         "P001",
         "D007",
         "2023-04-09",
         "10:30:00",
         "Consultation",
         "Scheduled"
        ],
        [
         "7",
         "A008",
         "P016",
         "D010",
         "2023-05-24",
         "8:45:00",
         "Consultation",
         "Cancelled"
        ],
        [
         "8",
         "A009",
         "P039",
         "D010",
         "2023-03-05",
         "13:45:00",
         "Follow-up",
         "Scheduled"
        ],
        [
         "9",
         "A010",
         "P005",
         "D003",
         "2023-01-13",
         "15:30:00",
         "Therapy",
         "Completed"
        ],
        [
         "10",
         "A011",
         "P022",
         "D007",
         "2023-11-12",
         "16:00:00",
         "Checkup",
         "No-show"
        ],
        [
         "11",
         "A012",
         "P029",
         "D003",
         "2023-05-07",
         "10:00:00",
         "Follow-up",
         "Completed"
        ],
        [
         "12",
         "A013",
         "P003",
         "D002",
         "2023-08-16",
         "12:00:00",
         "Emergency",
         "Scheduled"
        ],
        [
         "13",
         "A014",
         "P012",
         "D010",
         "2023-05-25",
         "10:30:00",
         "Emergency",
         "Cancelled"
        ],
        [
         "14",
         "A015",
         "P026",
         "D004",
         "2023-01-15",
         "17:15:00",
         "Consultation",
         "No-show"
        ],
        [
         "15",
         "A016",
         "P016",
         "D008",
         "2023-06-30",
         "11:00:00",
         "Consultation",
         "Scheduled"
        ],
        [
         "16",
         "A017",
         "P037",
         "D009",
         "2023-07-11",
         "17:00:00",
         "Emergency",
         "Scheduled"
        ],
        [
         "17",
         "A018",
         "P022",
         "D007",
         "2023-11-14",
         "9:45:00",
         "Consultation",
         "Cancelled"
        ],
        [
         "18",
         "A019",
         "P029",
         "D001",
         "2023-02-06",
         "15:30:00",
         "Checkup",
         "Cancelled"
        ],
        [
         "19",
         "A020",
         "P014",
         "D003",
         "2023-12-05",
         "15:15:00",
         "Consultation",
         "Completed"
        ],
        [
         "20",
         "A021",
         "P028",
         "D009",
         "2023-04-24",
         "10:00:00",
         "Therapy",
         "No-show"
        ],
        [
         "21",
         "A022",
         "P005",
         "D001",
         "2023-11-14",
         "13:00:00",
         "Consultation",
         "No-show"
        ],
        [
         "22",
         "A023",
         "P047",
         "D009",
         "2023-05-09",
         "14:30:00",
         "Follow-up",
         "Cancelled"
        ],
        [
         "23",
         "A024",
         "P049",
         "D008",
         "2023-06-21",
         "8:00:00",
         "Checkup",
         "Completed"
        ],
        [
         "24",
         "A025",
         "P030",
         "D001",
         "2023-02-25",
         "8:00:00",
         "Follow-up",
         "No-show"
        ],
        [
         "25",
         "A026",
         "P046",
         "D006",
         "2023-03-17",
         "14:15:00",
         "Follow-up",
         "Cancelled"
        ],
        [
         "26",
         "A027",
         "P005",
         "D005",
         "2023-11-14",
         "12:45:00",
         "Therapy",
         "Scheduled"
        ],
        [
         "27",
         "A028",
         "P012",
         "D006",
         "2023-10-29",
         "15:30:00",
         "Checkup",
         "No-show"
        ],
        [
         "28",
         "A029",
         "P016",
         "D010",
         "2023-06-25",
         "14:30:00",
         "Checkup",
         "Completed"
        ],
        [
         "29",
         "A030",
         "P026",
         "D005",
         "2023-08-29",
         "13:15:00",
         "Checkup",
         "Completed"
        ],
        [
         "30",
         "A031",
         "P026",
         "D006",
         "2023-04-04",
         "10:30:00",
         "Checkup",
         "Completed"
        ],
        [
         "31",
         "A032",
         "P048",
         "D005",
         "2023-11-06",
         "10:45:00",
         "Checkup",
         "Scheduled"
        ],
        [
         "32",
         "A033",
         "P021",
         "D005",
         "2023-09-23",
         "17:45:00",
         "Therapy",
         "No-show"
        ],
        [
         "33",
         "A034",
         "P039",
         "D004",
         "2023-06-13",
         "11:30:00",
         "Consultation",
         "No-show"
        ],
        [
         "34",
         "A035",
         "P036",
         "D003",
         "2023-04-18",
         "8:45:00",
         "Follow-up",
         "Scheduled"
        ],
        [
         "35",
         "A036",
         "P033",
         "D003",
         "2023-01-08",
         "14:30:00",
         "Checkup",
         "No-show"
        ],
        [
         "36",
         "A037",
         "P030",
         "D004",
         "2023-03-28",
         "11:00:00",
         "Consultation",
         "Scheduled"
        ],
        [
         "37",
         "A038",
         "P037",
         "D009",
         "2023-02-23",
         "13:00:00",
         "Consultation",
         "Scheduled"
        ],
        [
         "38",
         "A039",
         "P023",
         "D002",
         "2023-04-17",
         "8:00:00",
         "Follow-up",
         "Scheduled"
        ],
        [
         "39",
         "A040",
         "P010",
         "D009",
         "2023-03-27",
         "12:30:00",
         "Therapy",
         "Completed"
        ],
        [
         "40",
         "A041",
         "P005",
         "D001",
         "2023-01-01",
         "14:00:00",
         "Emergency",
         "No-show"
        ],
        [
         "41",
         "A042",
         "P036",
         "D001",
         "2023-03-21",
         "11:15:00",
         "Emergency",
         "Scheduled"
        ],
        [
         "42",
         "A043",
         "P034",
         "D005",
         "2023-03-29",
         "9:15:00",
         "Consultation",
         "No-show"
        ],
        [
         "43",
         "A044",
         "P031",
         "D006",
         "2023-09-20",
         "12:30:00",
         "Follow-up",
         "Completed"
        ],
        [
         "44",
         "A045",
         "P010",
         "D006",
         "2023-09-28",
         "17:00:00",
         "Emergency",
         "Scheduled"
        ],
        [
         "45",
         "A046",
         "P019",
         "D003",
         "2023-12-20",
         "13:15:00",
         "Consultation",
         "Cancelled"
        ],
        [
         "46",
         "A047",
         "P032",
         "D007",
         "2023-05-02",
         "11:00:00",
         "Therapy",
         "Completed"
        ],
        [
         "47",
         "A048",
         "P001",
         "D009",
         "2023-01-16",
         "15:45:00",
         "Emergency",
         "Cancelled"
        ],
        [
         "48",
         "A049",
         "P005",
         "D010",
         "2023-04-30",
         "15:30:00",
         "Consultation",
         "No-show"
        ],
        [
         "49",
         "A050",
         "P045",
         "D008",
         "2023-08-16",
         "15:00:00",
         "Consultation",
         "No-show"
        ]
       ],
       "shape": {
        "columns": 7,
        "rows": 200
       }
      },
      "text/html": [
       "<div>\n",
       "<style scoped>\n",
       "    .dataframe tbody tr th:only-of-type {\n",
       "        vertical-align: middle;\n",
       "    }\n",
       "\n",
       "    .dataframe tbody tr th {\n",
       "        vertical-align: top;\n",
       "    }\n",
       "\n",
       "    .dataframe thead th {\n",
       "        text-align: right;\n",
       "    }\n",
       "</style>\n",
       "<table border=\"1\" class=\"dataframe\">\n",
       "  <thead>\n",
       "    <tr style=\"text-align: right;\">\n",
       "      <th></th>\n",
       "      <th>appointment_id</th>\n",
       "      <th>patient_id</th>\n",
       "      <th>doctor_id</th>\n",
       "      <th>appointment_date</th>\n",
       "      <th>appointment_time</th>\n",
       "      <th>reason_for_visit</th>\n",
       "      <th>status</th>\n",
       "    </tr>\n",
       "  </thead>\n",
       "  <tbody>\n",
       "    <tr>\n",
       "      <th>0</th>\n",
       "      <td>A001</td>\n",
       "      <td>P034</td>\n",
       "      <td>D009</td>\n",
       "      <td>2023-08-09</td>\n",
       "      <td>15:15:00</td>\n",
       "      <td>Therapy</td>\n",
       "      <td>Scheduled</td>\n",
       "    </tr>\n",
       "    <tr>\n",
       "      <th>1</th>\n",
       "      <td>A002</td>\n",
       "      <td>P032</td>\n",
       "      <td>D004</td>\n",
       "      <td>2023-06-09</td>\n",
       "      <td>14:30:00</td>\n",
       "      <td>Therapy</td>\n",
       "      <td>No-show</td>\n",
       "    </tr>\n",
       "    <tr>\n",
       "      <th>2</th>\n",
       "      <td>A003</td>\n",
       "      <td>P048</td>\n",
       "      <td>D004</td>\n",
       "      <td>2023-06-28</td>\n",
       "      <td>8:00:00</td>\n",
       "      <td>Consultation</td>\n",
       "      <td>Cancelled</td>\n",
       "    </tr>\n",
       "    <tr>\n",
       "      <th>3</th>\n",
       "      <td>A004</td>\n",
       "      <td>P025</td>\n",
       "      <td>D006</td>\n",
       "      <td>2023-09-01</td>\n",
       "      <td>9:15:00</td>\n",
       "      <td>Consultation</td>\n",
       "      <td>Cancelled</td>\n",
       "    </tr>\n",
       "    <tr>\n",
       "      <th>4</th>\n",
       "      <td>A005</td>\n",
       "      <td>P040</td>\n",
       "      <td>D003</td>\n",
       "      <td>2023-07-06</td>\n",
       "      <td>12:45:00</td>\n",
       "      <td>Emergency</td>\n",
       "      <td>No-show</td>\n",
       "    </tr>\n",
       "    <tr>\n",
       "      <th>...</th>\n",
       "      <td>...</td>\n",
       "      <td>...</td>\n",
       "      <td>...</td>\n",
       "      <td>...</td>\n",
       "      <td>...</td>\n",
       "      <td>...</td>\n",
       "      <td>...</td>\n",
       "    </tr>\n",
       "    <tr>\n",
       "      <th>195</th>\n",
       "      <td>A196</td>\n",
       "      <td>P045</td>\n",
       "      <td>D006</td>\n",
       "      <td>2023-10-26</td>\n",
       "      <td>9:45:00</td>\n",
       "      <td>Checkup</td>\n",
       "      <td>Cancelled</td>\n",
       "    </tr>\n",
       "    <tr>\n",
       "      <th>196</th>\n",
       "      <td>A197</td>\n",
       "      <td>P001</td>\n",
       "      <td>D005</td>\n",
       "      <td>2023-04-01</td>\n",
       "      <td>13:30:00</td>\n",
       "      <td>Emergency</td>\n",
       "      <td>No-show</td>\n",
       "    </tr>\n",
       "    <tr>\n",
       "      <th>197</th>\n",
       "      <td>A198</td>\n",
       "      <td>P022</td>\n",
       "      <td>D006</td>\n",
       "      <td>2023-05-15</td>\n",
       "      <td>8:30:00</td>\n",
       "      <td>Therapy</td>\n",
       "      <td>No-show</td>\n",
       "    </tr>\n",
       "    <tr>\n",
       "      <th>198</th>\n",
       "      <td>A199</td>\n",
       "      <td>P017</td>\n",
       "      <td>D001</td>\n",
       "      <td>2023-05-01</td>\n",
       "      <td>12:45:00</td>\n",
       "      <td>Follow-up</td>\n",
       "      <td>Completed</td>\n",
       "    </tr>\n",
       "    <tr>\n",
       "      <th>199</th>\n",
       "      <td>A200</td>\n",
       "      <td>P007</td>\n",
       "      <td>D005</td>\n",
       "      <td>2023-12-30</td>\n",
       "      <td>10:15:00</td>\n",
       "      <td>Consultation</td>\n",
       "      <td>Cancelled</td>\n",
       "    </tr>\n",
       "  </tbody>\n",
       "</table>\n",
       "<p>200 rows × 7 columns</p>\n",
       "</div>"
      ],
      "text/plain": [
       "    appointment_id patient_id doctor_id appointment_date appointment_time  \\\n",
       "0             A001       P034      D009       2023-08-09         15:15:00   \n",
       "1             A002       P032      D004       2023-06-09         14:30:00   \n",
       "2             A003       P048      D004       2023-06-28          8:00:00   \n",
       "3             A004       P025      D006       2023-09-01          9:15:00   \n",
       "4             A005       P040      D003       2023-07-06         12:45:00   \n",
       "..             ...        ...       ...              ...              ...   \n",
       "195           A196       P045      D006       2023-10-26          9:45:00   \n",
       "196           A197       P001      D005       2023-04-01         13:30:00   \n",
       "197           A198       P022      D006       2023-05-15          8:30:00   \n",
       "198           A199       P017      D001       2023-05-01         12:45:00   \n",
       "199           A200       P007      D005       2023-12-30         10:15:00   \n",
       "\n",
       "    reason_for_visit     status  \n",
       "0            Therapy  Scheduled  \n",
       "1            Therapy    No-show  \n",
       "2       Consultation  Cancelled  \n",
       "3       Consultation  Cancelled  \n",
       "4          Emergency    No-show  \n",
       "..               ...        ...  \n",
       "195          Checkup  Cancelled  \n",
       "196        Emergency    No-show  \n",
       "197          Therapy    No-show  \n",
       "198        Follow-up  Completed  \n",
       "199     Consultation  Cancelled  \n",
       "\n",
       "[200 rows x 7 columns]"
      ]
     },
     "execution_count": 10,
     "metadata": {},
     "output_type": "execute_result"
    }
   ],
   "source": [
    "# causes of no-show/cancellation in appointments\n",
    "appointments_data = pd.read_csv('C:/Users/enosa/OneDrive/Desktop/Data Analysis/Datasets/Hospital management/appointments.csv')\n",
    "appointments_data"
   ]
  },
  {
   "cell_type": "code",
   "execution_count": 11,
   "id": "6bf93d87",
   "metadata": {},
   "outputs": [
    {
     "name": "stderr",
     "output_type": "stream",
     "text": [
      "C:\\Users\\enosa\\AppData\\Local\\Temp\\ipykernel_452332\\161652220.py:6: FutureWarning: \n",
      "\n",
      "Passing `palette` without assigning `hue` is deprecated and will be removed in v0.14.0. Assign the `x` variable to `hue` and set `legend=False` for the same effect.\n",
      "\n",
      "  sns.barplot(x=no_show['doctor_id'].value_counts().index, y=no_show['doctor_id'].value_counts().values, palette='viridis')\n"
     ]
    },
    {
     "data": {
      "image/png": "[encoded data removed]",
      "text/plain": [
       "<Figure size 1000x600 with 1 Axes>"
      ]
     },
     "metadata": {},
     "output_type": "display_data"
    }
   ],
   "source": [
    "# no-show/cancellation by doctor id analysis\n",
    "no_show = appointments_data[appointments_data['status'] == 'No-show']\n",
    "no_show.groupby('doctor_id')['status'].count()\n",
    "#plot the no-show by doctor id\n",
    "plt.figure(figsize=(10, 6))\n",
    "sns.barplot(x=no_show['doctor_id'].value_counts().index, y=no_show['doctor_id'].value_counts().values, palette='viridis')\n",
    "plt.title('No-Show Appointments by Doctor ID')\n",
    "plt.xlabel('Doctor ID')\n",
    "plt.ylabel('Number of No-Shows')\n",
    "plt.show()"
   ]
  },
  {
   "cell_type": "code",
   "execution_count": 12,
   "id": "bd004398",
   "metadata": {},
   "outputs": [
    {
     "name": "stderr",
     "output_type": "stream",
     "text": [
      "C:\\Users\\enosa\\AppData\\Local\\Temp\\ipykernel_452332\\837812433.py:5: FutureWarning: \n",
      "\n",
      "Passing `palette` without assigning `hue` is deprecated and will be removed in v0.14.0. Assign the `x` variable to `hue` and set `legend=False` for the same effect.\n",
      "\n",
      "  sns.barplot(x = no_show['reason_for_visit'].value_counts().index, y = no_show['reason_for_visit'].value_counts().values, palette='viridis')\n"
     ]
    },
    {
     "data": {
      "image/png": "[encoded data removed]",
      "text/plain": [
       "<Figure size 1000x600 with 1 Axes>"
      ]
     },
     "metadata": {},
     "output_type": "display_data"
    }
   ],
   "source": [
    "# causes of No-show anlaysis\n",
    "no_show.groupby('reason_for_visit')['status'].count()\n",
    "#plot the values\n",
    "plt.figure(figsize=(10,6))\n",
    "sns.barplot(x = no_show['reason_for_visit'].value_counts().index, y = no_show['reason_for_visit'].value_counts().values, palette='viridis')\n",
    "plt.title('Reasons for No_shows')\n",
    "plt.xlabel('Reason')\n",
    "plt.ylabel('Count of reason')\n",
    "plt.show()"
   ]
  },
  {
   "cell_type": "code",
   "execution_count": 13,
   "id": "293751f5",
   "metadata": {},
   "outputs": [
    {
     "data": {
      "application/vnd.microsoft.datawrangler.viewer.v0+json": {
       "columns": [
        {
         "name": "index",
         "rawType": "int64",
         "type": "integer"
        },
        {
         "name": "appointment_id",
         "rawType": "object",
         "type": "string"
        },
        {
         "name": "patient_id",
         "rawType": "object",
         "type": "string"
        },
        {
         "name": "doctor_id",
         "rawType": "object",
         "type": "string"
        },
        {
         "name": "appointment_date",
         "rawType": "object",
         "type": "string"
        },
        {
         "name": "appointment_time",
         "rawType": "object",
         "type": "string"
        },
        {
         "name": "reason_for_visit",
         "rawType": "object",
         "type": "string"
        },
        {
         "name": "status",
         "rawType": "object",
         "type": "string"
        },
        {
         "name": "first_name",
         "rawType": "object",
         "type": "string"
        },
        {
         "name": "last_name",
         "rawType": "object",
         "type": "string"
        },
        {
         "name": "specialization",
         "rawType": "object",
         "type": "string"
        },
        {
         "name": "phone_number",
         "rawType": "int64",
         "type": "integer"
        },
        {
         "name": "years_experience",
         "rawType": "int64",
         "type": "integer"
        },
        {
         "name": "hospital_branch",
         "rawType": "object",
         "type": "string"
        },
        {
         "name": "email",
         "rawType": "object",
         "type": "string"
        }
       ],
       "ref": "2e710f49-b175-421a-ab14-4114ac1478a2",
       "rows": [
        [
         "0",
         "A001",
         "P034",
         "D009",
         "2023-08-09",
         "15:15:00",
         "Therapy",
         "Scheduled",
         "Sarah",
         "Smith",
         "Pediatrics",
         "7387087517",
         "26",
         "Central Hospital",
         "dr.sarah.smith@hospital.com"
        ],
        [
         "1",
         "A002",
         "P032",
         "D004",
         "2023-06-09",
         "14:30:00",
         "Therapy",
         "No-show",
         "David",
         "Jones",
         "Pediatrics",
         "6594221991",
         "28",
         "Central Hospital",
         "dr.david.jones@hospital.com"
        ],
        [
         "2",
         "A003",
         "P048",
         "D004",
         "2023-06-28",
         "8:00:00",
         "Consultation",
         "Cancelled",
         "David",
         "Jones",
         "Pediatrics",
         "6594221991",
         "28",
         "Central Hospital",
         "dr.david.jones@hospital.com"
        ],
        [
         "3",
         "A004",
         "P025",
         "D006",
         "2023-09-01",
         "9:15:00",
         "Consultation",
         "Cancelled",
         "Alex",
         "Davis",
         "Pediatrics",
         "6570137231",
         "23",
         "Central Hospital",
         "dr.alex.davis@hospital.com"
        ],
        [
         "4",
         "A005",
         "P040",
         "D003",
         "2023-07-06",
         "12:45:00",
         "Emergency",
         "No-show",
         "Jane",
         "Smith",
         "Pediatrics",
         "8737740598",
         "19",
         "Eastside Clinic",
         "dr.jane.smith@hospital.com"
        ],
        [
         "5",
         "A006",
         "P045",
         "D006",
         "2023-06-19",
         "16:15:00",
         "Checkup",
         "Scheduled",
         "Alex",
         "Davis",
         "Pediatrics",
         "6570137231",
         "23",
         "Central Hospital",
         "dr.alex.davis@hospital.com"
        ],
        [
         "6",
         "A007",
         "P001",
         "D007",
         "2023-04-09",
         "10:30:00",
         "Consultation",
         "Scheduled",
         "Robert",
         "Davis",
         "Oncology",
         "8217493115",
         "26",
         "Westside Clinic",
         "dr.robert.davis@hospital.com"
        ],
        [
         "7",
         "A008",
         "P016",
         "D010",
         "2023-05-24",
         "8:45:00",
         "Consultation",
         "Cancelled",
         "Linda",
         "Wilson",
         "Oncology",
         "6176383634",
         "21",
         "Eastside Clinic",
         "dr.linda.wilson@hospital.com"
        ],
        [
         "8",
         "A009",
         "P039",
         "D010",
         "2023-03-05",
         "13:45:00",
         "Follow-up",
         "Scheduled",
         "Linda",
         "Wilson",
         "Oncology",
         "6176383634",
         "21",
         "Eastside Clinic",
         "dr.linda.wilson@hospital.com"
        ],
        [
         "9",
         "A010",
         "P005",
         "D003",
         "2023-01-13",
         "15:30:00",
         "Therapy",
         "Completed",
         "Jane",
         "Smith",
         "Pediatrics",
         "8737740598",
         "19",
         "Eastside Clinic",
         "dr.jane.smith@hospital.com"
        ],
        [
         "10",
         "A011",
         "P022",
         "D007",
         "2023-11-12",
         "16:00:00",
         "Checkup",
         "No-show",
         "Robert",
         "Davis",
         "Oncology",
         "8217493115",
         "26",
         "Westside Clinic",
         "dr.robert.davis@hospital.com"
        ],
        [
         "11",
         "A012",
         "P029",
         "D003",
         "2023-05-07",
         "10:00:00",
         "Follow-up",
         "Completed",
         "Jane",
         "Smith",
         "Pediatrics",
         "8737740598",
         "19",
         "Eastside Clinic",
         "dr.jane.smith@hospital.com"
        ],
        [
         "12",
         "A013",
         "P003",
         "D002",
         "2023-08-16",
         "12:00:00",
         "Emergency",
         "Scheduled",
         "Jane",
         "Davis",
         "Pediatrics",
         "9004382050",
         "24",
         "Eastside Clinic",
         "dr.jane.davis@hospital.com"
        ],
        [
         "13",
         "A014",
         "P012",
         "D010",
         "2023-05-25",
         "10:30:00",
         "Emergency",
         "Cancelled",
         "Linda",
         "Wilson",
         "Oncology",
         "6176383634",
         "21",
         "Eastside Clinic",
         "dr.linda.wilson@hospital.com"
        ],
        [
         "14",
         "A015",
         "P026",
         "D004",
         "2023-01-15",
         "17:15:00",
         "Consultation",
         "No-show",
         "David",
         "Jones",
         "Pediatrics",
         "6594221991",
         "28",
         "Central Hospital",
         "dr.david.jones@hospital.com"
        ],
        [
         "15",
         "A016",
         "P016",
         "D008",
         "2023-06-30",
         "11:00:00",
         "Consultation",
         "Scheduled",
         "Linda",
         "Brown",
         "Dermatology",
         "9069162601",
         "5",
         "Westside Clinic",
         "dr.linda.brown@hospital.com"
        ],
        [
         "16",
         "A017",
         "P037",
         "D009",
         "2023-07-11",
         "17:00:00",
         "Emergency",
         "Scheduled",
         "Sarah",
         "Smith",
         "Pediatrics",
         "7387087517",
         "26",
         "Central Hospital",
         "dr.sarah.smith@hospital.com"
        ],
        [
         "17",
         "A018",
         "P022",
         "D007",
         "2023-11-14",
         "9:45:00",
         "Consultation",
         "Cancelled",
         "Robert",
         "Davis",
         "Oncology",
         "8217493115",
         "26",
         "Westside Clinic",
         "dr.robert.davis@hospital.com"
        ],
        [
         "18",
         "A019",
         "P029",
         "D001",
         "2023-02-06",
         "15:30:00",
         "Checkup",
         "Cancelled",
         "David",
         "Taylor",
         "Dermatology",
         "8322010158",
         "17",
         "Westside Clinic",
         "dr.david.taylor@hospital.com"
        ],
        [
         "19",
         "A020",
         "P014",
         "D003",
         "2023-12-05",
         "15:15:00",
         "Consultation",
         "Completed",
         "Jane",
         "Smith",
         "Pediatrics",
         "8737740598",
         "19",
         "Eastside Clinic",
         "dr.jane.smith@hospital.com"
        ],
        [
         "20",
         "A021",
         "P028",
         "D009",
         "2023-04-24",
         "10:00:00",
         "Therapy",
         "No-show",
         "Sarah",
         "Smith",
         "Pediatrics",
         "7387087517",
         "26",
         "Central Hospital",
         "dr.sarah.smith@hospital.com"
        ],
        [
         "21",
         "A022",
         "P005",
         "D001",
         "2023-11-14",
         "13:00:00",
         "Consultation",
         "No-show",
         "David",
         "Taylor",
         "Dermatology",
         "8322010158",
         "17",
         "Westside Clinic",
         "dr.david.taylor@hospital.com"
        ],
        [
         "22",
         "A023",
         "P047",
         "D009",
         "2023-05-09",
         "14:30:00",
         "Follow-up",
         "Cancelled",
         "Sarah",
         "Smith",
         "Pediatrics",
         "7387087517",
         "26",
         "Central Hospital",
         "dr.sarah.smith@hospital.com"
        ],
        [
         "23",
         "A024",
         "P049",
         "D008",
         "2023-06-21",
         "8:00:00",
         "Checkup",
         "Completed",
         "Linda",
         "Brown",
         "Dermatology",
         "9069162601",
         "5",
         "Westside Clinic",
         "dr.linda.brown@hospital.com"
        ],
        [
         "24",
         "A025",
         "P030",
         "D001",
         "2023-02-25",
         "8:00:00",
         "Follow-up",
         "No-show",
         "David",
         "Taylor",
         "Dermatology",
         "8322010158",
         "17",
         "Westside Clinic",
         "dr.david.taylor@hospital.com"
        ],
        [
         "25",
         "A026",
         "P046",
         "D006",
         "2023-03-17",
         "14:15:00",
         "Follow-up",
         "Cancelled",
         "Alex",
         "Davis",
         "Pediatrics",
         "6570137231",
         "23",
         "Central Hospital",
         "dr.alex.davis@hospital.com"
        ],
        [
         "26",
         "A027",
         "P005",
         "D005",
         "2023-11-14",
         "12:45:00",
         "Therapy",
         "Scheduled",
         "Sarah",
         "Taylor",
         "Dermatology",
         "9118538547",
         "26",
         "Central Hospital",
         "dr.sarah.taylor@hospital.com"
        ],
        [
         "27",
         "A028",
         "P012",
         "D006",
         "2023-10-29",
         "15:30:00",
         "Checkup",
         "No-show",
         "Alex",
         "Davis",
         "Pediatrics",
         "6570137231",
         "23",
         "Central Hospital",
         "dr.alex.davis@hospital.com"
        ],
        [
         "28",
         "A029",
         "P016",
         "D010",
         "2023-06-25",
         "14:30:00",
         "Checkup",
         "Completed",
         "Linda",
         "Wilson",
         "Oncology",
         "6176383634",
         "21",
         "Eastside Clinic",
         "dr.linda.wilson@hospital.com"
        ],
        [
         "29",
         "A030",
         "P026",
         "D005",
         "2023-08-29",
         "13:15:00",
         "Checkup",
         "Completed",
         "Sarah",
         "Taylor",
         "Dermatology",
         "9118538547",
         "26",
         "Central Hospital",
         "dr.sarah.taylor@hospital.com"
        ],
        [
         "30",
         "A031",
         "P026",
         "D006",
         "2023-04-04",
         "10:30:00",
         "Checkup",
         "Completed",
         "Alex",
         "Davis",
         "Pediatrics",
         "6570137231",
         "23",
         "Central Hospital",
         "dr.alex.davis@hospital.com"
        ],
        [
         "31",
         "A032",
         "P048",
         "D005",
         "2023-11-06",
         "10:45:00",
         "Checkup",
         "Scheduled",
         "Sarah",
         "Taylor",
         "Dermatology",
         "9118538547",
         "26",
         "Central Hospital",
         "dr.sarah.taylor@hospital.com"
        ],
        [
         "32",
         "A033",
         "P021",
         "D005",
         "2023-09-23",
         "17:45:00",
         "Therapy",
         "No-show",
         "Sarah",
         "Taylor",
         "Dermatology",
         "9118538547",
         "26",
         "Central Hospital",
         "dr.sarah.taylor@hospital.com"
        ],
        [
         "33",
         "A034",
         "P039",
         "D004",
         "2023-06-13",
         "11:30:00",
         "Consultation",
         "No-show",
         "David",
         "Jones",
         "Pediatrics",
         "6594221991",
         "28",
         "Central Hospital",
         "dr.david.jones@hospital.com"
        ],
        [
         "34",
         "A035",
         "P036",
         "D003",
         "2023-04-18",
         "8:45:00",
         "Follow-up",
         "Scheduled",
         "Jane",
         "Smith",
         "Pediatrics",
         "8737740598",
         "19",
         "Eastside Clinic",
         "dr.jane.smith@hospital.com"
        ],
        [
         "35",
         "A036",
         "P033",
         "D003",
         "2023-01-08",
         "14:30:00",
         "Checkup",
         "No-show",
         "Jane",
         "Smith",
         "Pediatrics",
         "8737740598",
         "19",
         "Eastside Clinic",
         "dr.jane.smith@hospital.com"
        ],
        [
         "36",
         "A037",
         "P030",
         "D004",
         "2023-03-28",
         "11:00:00",
         "Consultation",
         "Scheduled",
         "David",
         "Jones",
         "Pediatrics",
         "6594221991",
         "28",
         "Central Hospital",
         "dr.david.jones@hospital.com"
        ],
        [
         "37",
         "A038",
         "P037",
         "D009",
         "2023-02-23",
         "13:00:00",
         "Consultation",
         "Scheduled",
         "Sarah",
         "Smith",
         "Pediatrics",
         "7387087517",
         "26",
         "Central Hospital",
         "dr.sarah.smith@hospital.com"
        ],
        [
         "38",
         "A039",
         "P023",
         "D002",
         "2023-04-17",
         "8:00:00",
         "Follow-up",
         "Scheduled",
         "Jane",
         "Davis",
         "Pediatrics",
         "9004382050",
         "24",
         "Eastside Clinic",
         "dr.jane.davis@hospital.com"
        ],
        [
         "39",
         "A040",
         "P010",
         "D009",
         "2023-03-27",
         "12:30:00",
         "Therapy",
         "Completed",
         "Sarah",
         "Smith",
         "Pediatrics",
         "7387087517",
         "26",
         "Central Hospital",
         "dr.sarah.smith@hospital.com"
        ],
        [
         "40",
         "A041",
         "P005",
         "D001",
         "2023-01-01",
         "14:00:00",
         "Emergency",
         "No-show",
         "David",
         "Taylor",
         "Dermatology",
         "8322010158",
         "17",
         "Westside Clinic",
         "dr.david.taylor@hospital.com"
        ],
        [
         "41",
         "A042",
         "P036",
         "D001",
         "2023-03-21",
         "11:15:00",
         "Emergency",
         "Scheduled",
         "David",
         "Taylor",
         "Dermatology",
         "8322010158",
         "17",
         "Westside Clinic",
         "dr.david.taylor@hospital.com"
        ],
        [
         "42",
         "A043",
         "P034",
         "D005",
         "2023-03-29",
         "9:15:00",
         "Consultation",
         "No-show",
         "Sarah",
         "Taylor",
         "Dermatology",
         "9118538547",
         "26",
         "Central Hospital",
         "dr.sarah.taylor@hospital.com"
        ],
        [
         "43",
         "A044",
         "P031",
         "D006",
         "2023-09-20",
         "12:30:00",
         "Follow-up",
         "Completed",
         "Alex",
         "Davis",
         "Pediatrics",
         "6570137231",
         "23",
         "Central Hospital",
         "dr.alex.davis@hospital.com"
        ],
        [
         "44",
         "A045",
         "P010",
         "D006",
         "2023-09-28",
         "17:00:00",
         "Emergency",
         "Scheduled",
         "Alex",
         "Davis",
         "Pediatrics",
         "6570137231",
         "23",
         "Central Hospital",
         "dr.alex.davis@hospital.com"
        ],
        [
         "45",
         "A046",
         "P019",
         "D003",
         "2023-12-20",
         "13:15:00",
         "Consultation",
         "Cancelled",
         "Jane",
         "Smith",
         "Pediatrics",
         "8737740598",
         "19",
         "Eastside Clinic",
         "dr.jane.smith@hospital.com"
        ],
        [
         "46",
         "A047",
         "P032",
         "D007",
         "2023-05-02",
         "11:00:00",
         "Therapy",
         "Completed",
         "Robert",
         "Davis",
         "Oncology",
         "8217493115",
         "26",
         "Westside Clinic",
         "dr.robert.davis@hospital.com"
        ],
        [
         "47",
         "A048",
         "P001",
         "D009",
         "2023-01-16",
         "15:45:00",
         "Emergency",
         "Cancelled",
         "Sarah",
         "Smith",
         "Pediatrics",
         "7387087517",
         "26",
         "Central Hospital",
         "dr.sarah.smith@hospital.com"
        ],
        [
         "48",
         "A049",
         "P005",
         "D010",
         "2023-04-30",
         "15:30:00",
         "Consultation",
         "No-show",
         "Linda",
         "Wilson",
         "Oncology",
         "6176383634",
         "21",
         "Eastside Clinic",
         "dr.linda.wilson@hospital.com"
        ],
        [
         "49",
         "A050",
         "P045",
         "D008",
         "2023-08-16",
         "15:00:00",
         "Consultation",
         "No-show",
         "Linda",
         "Brown",
         "Dermatology",
         "9069162601",
         "5",
         "Westside Clinic",
         "dr.linda.brown@hospital.com"
        ]
       ],
       "shape": {
        "columns": 14,
        "rows": 200
       }
      },
      "text/html": [
       "<div>\n",
       "<style scoped>\n",
       "    .dataframe tbody tr th:only-of-type {\n",
       "        vertical-align: middle;\n",
       "    }\n",
       "\n",
       "    .dataframe tbody tr th {\n",
       "        vertical-align: top;\n",
       "    }\n",
       "\n",
       "    .dataframe thead th {\n",
       "        text-align: right;\n",
       "    }\n",
       "</style>\n",
       "<table border=\"1\" class=\"dataframe\">\n",
       "  <thead>\n",
       "    <tr style=\"text-align: right;\">\n",
       "      <th></th>\n",
       "      <th>appointment_id</th>\n",
       "      <th>patient_id</th>\n",
       "      <th>doctor_id</th>\n",
       "      <th>appointment_date</th>\n",
       "      <th>appointment_time</th>\n",
       "      <th>reason_for_visit</th>\n",
       "      <th>status</th>\n",
       "      <th>first_name</th>\n",
       "      <th>last_name</th>\n",
       "      <th>specialization</th>\n",
       "      <th>phone_number</th>\n",
       "      <th>years_experience</th>\n",
       "      <th>hospital_branch</th>\n",
       "      <th>email</th>\n",
       "    </tr>\n",
       "  </thead>\n",
       "  <tbody>\n",
       "    <tr>\n",
       "      <th>0</th>\n",
       "      <td>A001</td>\n",
       "      <td>P034</td>\n",
       "      <td>D009</td>\n",
       "      <td>2023-08-09</td>\n",
       "      <td>15:15:00</td>\n",
       "      <td>Therapy</td>\n",
       "      <td>Scheduled</td>\n",
       "      <td>Sarah</td>\n",
       "      <td>Smith</td>\n",
       "      <td>Pediatrics</td>\n",
       "      <td>7387087517</td>\n",
       "      <td>26</td>\n",
       "      <td>Central Hospital</td>\n",
       "      <td>dr.sarah.smith@hospital.com</td>\n",
       "    </tr>\n",
       "    <tr>\n",
       "      <th>1</th>\n",
       "      <td>A002</td>\n",
       "      <td>P032</td>\n",
       "      <td>D004</td>\n",
       "      <td>2023-06-09</td>\n",
       "      <td>14:30:00</td>\n",
       "      <td>Therapy</td>\n",
       "      <td>No-show</td>\n",
       "      <td>David</td>\n",
       "      <td>Jones</td>\n",
       "      <td>Pediatrics</td>\n",
       "      <td>6594221991</td>\n",
       "      <td>28</td>\n",
       "      <td>Central Hospital</td>\n",
       "      <td>dr.david.jones@hospital.com</td>\n",
       "    </tr>\n",
       "    <tr>\n",
       "      <th>2</th>\n",
       "      <td>A003</td>\n",
       "      <td>P048</td>\n",
       "      <td>D004</td>\n",
       "      <td>2023-06-28</td>\n",
       "      <td>8:00:00</td>\n",
       "      <td>Consultation</td>\n",
       "      <td>Cancelled</td>\n",
       "      <td>David</td>\n",
       "      <td>Jones</td>\n",
       "      <td>Pediatrics</td>\n",
       "      <td>6594221991</td>\n",
       "      <td>28</td>\n",
       "      <td>Central Hospital</td>\n",
       "      <td>dr.david.jones@hospital.com</td>\n",
       "    </tr>\n",
       "    <tr>\n",
       "      <th>3</th>\n",
       "      <td>A004</td>\n",
       "      <td>P025</td>\n",
       "      <td>D006</td>\n",
       "      <td>2023-09-01</td>\n",
       "      <td>9:15:00</td>\n",
       "      <td>Consultation</td>\n",
       "      <td>Cancelled</td>\n",
       "      <td>Alex</td>\n",
       "      <td>Davis</td>\n",
       "      <td>Pediatrics</td>\n",
       "      <td>6570137231</td>\n",
       "      <td>23</td>\n",
       "      <td>Central Hospital</td>\n",
       "      <td>dr.alex.davis@hospital.com</td>\n",
       "    </tr>\n",
       "    <tr>\n",
       "      <th>4</th>\n",
       "      <td>A005</td>\n",
       "      <td>P040</td>\n",
       "      <td>D003</td>\n",
       "      <td>2023-07-06</td>\n",
       "      <td>12:45:00</td>\n",
       "      <td>Emergency</td>\n",
       "      <td>No-show</td>\n",
       "      <td>Jane</td>\n",
       "      <td>Smith</td>\n",
       "      <td>Pediatrics</td>\n",
       "      <td>8737740598</td>\n",
       "      <td>19</td>\n",
       "      <td>Eastside Clinic</td>\n",
       "      <td>dr.jane.smith@hospital.com</td>\n",
       "    </tr>\n",
       "    <tr>\n",
       "      <th>...</th>\n",
       "      <td>...</td>\n",
       "      <td>...</td>\n",
       "      <td>...</td>\n",
       "      <td>...</td>\n",
       "      <td>...</td>\n",
       "      <td>...</td>\n",
       "      <td>...</td>\n",
       "      <td>...</td>\n",
       "      <td>...</td>\n",
       "      <td>...</td>\n",
       "      <td>...</td>\n",
       "      <td>...</td>\n",
       "      <td>...</td>\n",
       "      <td>...</td>\n",
       "    </tr>\n",
       "    <tr>\n",
       "      <th>195</th>\n",
       "      <td>A196</td>\n",
       "      <td>P045</td>\n",
       "      <td>D006</td>\n",
       "      <td>2023-10-26</td>\n",
       "      <td>9:45:00</td>\n",
       "      <td>Checkup</td>\n",
       "      <td>Cancelled</td>\n",
       "      <td>Alex</td>\n",
       "      <td>Davis</td>\n",
       "      <td>Pediatrics</td>\n",
       "      <td>6570137231</td>\n",
       "      <td>23</td>\n",
       "      <td>Central Hospital</td>\n",
       "      <td>dr.alex.davis@hospital.com</td>\n",
       "    </tr>\n",
       "    <tr>\n",
       "      <th>196</th>\n",
       "      <td>A197</td>\n",
       "      <td>P001</td>\n",
       "      <td>D005</td>\n",
       "      <td>2023-04-01</td>\n",
       "      <td>13:30:00</td>\n",
       "      <td>Emergency</td>\n",
       "      <td>No-show</td>\n",
       "      <td>Sarah</td>\n",
       "      <td>Taylor</td>\n",
       "      <td>Dermatology</td>\n",
       "      <td>9118538547</td>\n",
       "      <td>26</td>\n",
       "      <td>Central Hospital</td>\n",
       "      <td>dr.sarah.taylor@hospital.com</td>\n",
       "    </tr>\n",
       "    <tr>\n",
       "      <th>197</th>\n",
       "      <td>A198</td>\n",
       "      <td>P022</td>\n",
       "      <td>D006</td>\n",
       "      <td>2023-05-15</td>\n",
       "      <td>8:30:00</td>\n",
       "      <td>Therapy</td>\n",
       "      <td>No-show</td>\n",
       "      <td>Alex</td>\n",
       "      <td>Davis</td>\n",
       "      <td>Pediatrics</td>\n",
       "      <td>6570137231</td>\n",
       "      <td>23</td>\n",
       "      <td>Central Hospital</td>\n",
       "      <td>dr.alex.davis@hospital.com</td>\n",
       "    </tr>\n",
       "    <tr>\n",
       "      <th>198</th>\n",
       "      <td>A199</td>\n",
       "      <td>P017</td>\n",
       "      <td>D001</td>\n",
       "      <td>2023-05-01</td>\n",
       "      <td>12:45:00</td>\n",
       "      <td>Follow-up</td>\n",
       "      <td>Completed</td>\n",
       "      <td>David</td>\n",
       "      <td>Taylor</td>\n",
       "      <td>Dermatology</td>\n",
       "      <td>8322010158</td>\n",
       "      <td>17</td>\n",
       "      <td>Westside Clinic</td>\n",
       "      <td>dr.david.taylor@hospital.com</td>\n",
       "    </tr>\n",
       "    <tr>\n",
       "      <th>199</th>\n",
       "      <td>A200</td>\n",
       "      <td>P007</td>\n",
       "      <td>D005</td>\n",
       "      <td>2023-12-30</td>\n",
       "      <td>10:15:00</td>\n",
       "      <td>Consultation</td>\n",
       "      <td>Cancelled</td>\n",
       "      <td>Sarah</td>\n",
       "      <td>Taylor</td>\n",
       "      <td>Dermatology</td>\n",
       "      <td>9118538547</td>\n",
       "      <td>26</td>\n",
       "      <td>Central Hospital</td>\n",
       "      <td>dr.sarah.taylor@hospital.com</td>\n",
       "    </tr>\n",
       "  </tbody>\n",
       "</table>\n",
       "<p>200 rows × 14 columns</p>\n",
       "</div>"
      ],
      "text/plain": [
       "    appointment_id patient_id doctor_id appointment_date appointment_time  \\\n",
       "0             A001       P034      D009       2023-08-09         15:15:00   \n",
       "1             A002       P032      D004       2023-06-09         14:30:00   \n",
       "2             A003       P048      D004       2023-06-28          8:00:00   \n",
       "3             A004       P025      D006       2023-09-01          9:15:00   \n",
       "4             A005       P040      D003       2023-07-06         12:45:00   \n",
       "..             ...        ...       ...              ...              ...   \n",
       "195           A196       P045      D006       2023-10-26          9:45:00   \n",
       "196           A197       P001      D005       2023-04-01         13:30:00   \n",
       "197           A198       P022      D006       2023-05-15          8:30:00   \n",
       "198           A199       P017      D001       2023-05-01         12:45:00   \n",
       "199           A200       P007      D005       2023-12-30         10:15:00   \n",
       "\n",
       "    reason_for_visit     status first_name last_name specialization  \\\n",
       "0            Therapy  Scheduled      Sarah     Smith     Pediatrics   \n",
       "1            Therapy    No-show      David     Jones     Pediatrics   \n",
       "2       Consultation  Cancelled      David     Jones     Pediatrics   \n",
       "3       Consultation  Cancelled       Alex     Davis     Pediatrics   \n",
       "4          Emergency    No-show       Jane     Smith     Pediatrics   \n",
       "..               ...        ...        ...       ...            ...   \n",
       "195          Checkup  Cancelled       Alex     Davis     Pediatrics   \n",
       "196        Emergency    No-show      Sarah    Taylor    Dermatology   \n",
       "197          Therapy    No-show       Alex     Davis     Pediatrics   \n",
       "198        Follow-up  Completed      David    Taylor    Dermatology   \n",
       "199     Consultation  Cancelled      Sarah    Taylor    Dermatology   \n",
       "\n",
       "     phone_number  years_experience   hospital_branch  \\\n",
       "0      7387087517                26  Central Hospital   \n",
       "1      6594221991                28  Central Hospital   \n",
       "2      6594221991                28  Central Hospital   \n",
       "3      6570137231                23  Central Hospital   \n",
       "4      8737740598                19   Eastside Clinic   \n",
       "..            ...               ...               ...   \n",
       "195    6570137231                23  Central Hospital   \n",
       "196    9118538547                26  Central Hospital   \n",
       "197    6570137231                23  Central Hospital   \n",
       "198    8322010158                17   Westside Clinic   \n",
       "199    9118538547                26  Central Hospital   \n",
       "\n",
       "                            email  \n",
       "0     dr.sarah.smith@hospital.com  \n",
       "1     dr.david.jones@hospital.com  \n",
       "2     dr.david.jones@hospital.com  \n",
       "3      dr.alex.davis@hospital.com  \n",
       "4      dr.jane.smith@hospital.com  \n",
       "..                            ...  \n",
       "195    dr.alex.davis@hospital.com  \n",
       "196  dr.sarah.taylor@hospital.com  \n",
       "197    dr.alex.davis@hospital.com  \n",
       "198  dr.david.taylor@hospital.com  \n",
       "199  dr.sarah.taylor@hospital.com  \n",
       "\n",
       "[200 rows x 14 columns]"
      ]
     },
     "execution_count": 13,
     "metadata": {},
     "output_type": "execute_result"
    }
   ],
   "source": [
    "#Specialization who had most No-shows\n",
    "doctors = pd.read_csv('C:/Users/enosa/OneDrive/Desktop/Data Analysis/Datasets/Hospital management/doctors.csv')\n",
    "#merge appointments and doctors dataset\n",
    "data = pd.merge(appointments_data,doctors, on='doctor_id')\n",
    "data"
   ]
  },
  {
   "cell_type": "code",
   "execution_count": 14,
   "id": "79be56bf",
   "metadata": {},
   "outputs": [
    {
     "data": {
      "application/vnd.microsoft.datawrangler.viewer.v0+json": {
       "columns": [
        {
         "name": "specialization",
         "rawType": "object",
         "type": "string"
        },
        {
         "name": "status",
         "rawType": "int64",
         "type": "integer"
        }
       ],
       "ref": "82b73407-56a2-411f-b82b-3e26c9906a01",
       "rows": [
        [
         "Dermatology",
         "20"
        ],
        [
         "Oncology",
         "7"
        ],
        [
         "Pediatrics",
         "25"
        ]
       ],
       "shape": {
        "columns": 1,
        "rows": 3
       }
      },
      "text/plain": [
       "specialization\n",
       "Dermatology    20\n",
       "Oncology        7\n",
       "Pediatrics     25\n",
       "Name: status, dtype: int64"
      ]
     },
     "execution_count": 14,
     "metadata": {},
     "output_type": "execute_result"
    }
   ],
   "source": [
    "#specialization with most No-shows\n",
    "no_show_data = data[data['status'] == 'No-show']\n",
    "no_show_data.groupby('specialization')['status'].count()"
   ]
  },
  {
   "cell_type": "code",
   "execution_count": 15,
   "id": "61fa5232",
   "metadata": {},
   "outputs": [
    {
     "data": {
      "application/vnd.microsoft.datawrangler.viewer.v0+json": {
       "columns": [
        {
         "name": "index",
         "rawType": "int64",
         "type": "integer"
        },
        {
         "name": "appointment_id",
         "rawType": "object",
         "type": "string"
        },
        {
         "name": "patient_id",
         "rawType": "object",
         "type": "string"
        },
        {
         "name": "doctor_id",
         "rawType": "object",
         "type": "string"
        },
        {
         "name": "appointment_date",
         "rawType": "datetime64[ns]",
         "type": "datetime"
        },
        {
         "name": "appointment_time",
         "rawType": "object",
         "type": "string"
        },
        {
         "name": "reason_for_visit",
         "rawType": "object",
         "type": "string"
        },
        {
         "name": "status",
         "rawType": "object",
         "type": "string"
        },
        {
         "name": "day_of_week",
         "rawType": "object",
         "type": "string"
        }
       ],
       "ref": "1cee186b-b537-4a20-af98-c8ef0e17d50f",
       "rows": [
        [
         "0",
         "A001",
         "P034",
         "D009",
         "2023-08-09 00:00:00",
         "15:15:00",
         "Therapy",
         "Scheduled",
         "Wednesday"
        ],
        [
         "1",
         "A002",
         "P032",
         "D004",
         "2023-06-09 00:00:00",
         "14:30:00",
         "Therapy",
         "No-show",
         "Friday"
        ],
        [
         "2",
         "A003",
         "P048",
         "D004",
         "2023-06-28 00:00:00",
         "8:00:00",
         "Consultation",
         "Cancelled",
         "Wednesday"
        ],
        [
         "3",
         "A004",
         "P025",
         "D006",
         "2023-09-01 00:00:00",
         "9:15:00",
         "Consultation",
         "Cancelled",
         "Friday"
        ],
        [
         "4",
         "A005",
         "P040",
         "D003",
         "2023-07-06 00:00:00",
         "12:45:00",
         "Emergency",
         "No-show",
         "Thursday"
        ],
        [
         "5",
         "A006",
         "P045",
         "D006",
         "2023-06-19 00:00:00",
         "16:15:00",
         "Checkup",
         "Scheduled",
         "Monday"
        ],
        [
         "6",
         "A007",
         "P001",
         "D007",
         "2023-04-09 00:00:00",
         "10:30:00",
         "Consultation",
         "Scheduled",
         "Sunday"
        ],
        [
         "7",
         "A008",
         "P016",
         "D010",
         "2023-05-24 00:00:00",
         "8:45:00",
         "Consultation",
         "Cancelled",
         "Wednesday"
        ],
        [
         "8",
         "A009",
         "P039",
         "D010",
         "2023-03-05 00:00:00",
         "13:45:00",
         "Follow-up",
         "Scheduled",
         "Sunday"
        ],
        [
         "9",
         "A010",
         "P005",
         "D003",
         "2023-01-13 00:00:00",
         "15:30:00",
         "Therapy",
         "Completed",
         "Friday"
        ],
        [
         "10",
         "A011",
         "P022",
         "D007",
         "2023-11-12 00:00:00",
         "16:00:00",
         "Checkup",
         "No-show",
         "Sunday"
        ],
        [
         "11",
         "A012",
         "P029",
         "D003",
         "2023-05-07 00:00:00",
         "10:00:00",
         "Follow-up",
         "Completed",
         "Sunday"
        ],
        [
         "12",
         "A013",
         "P003",
         "D002",
         "2023-08-16 00:00:00",
         "12:00:00",
         "Emergency",
         "Scheduled",
         "Wednesday"
        ],
        [
         "13",
         "A014",
         "P012",
         "D010",
         "2023-05-25 00:00:00",
         "10:30:00",
         "Emergency",
         "Cancelled",
         "Thursday"
        ],
        [
         "14",
         "A015",
         "P026",
         "D004",
         "2023-01-15 00:00:00",
         "17:15:00",
         "Consultation",
         "No-show",
         "Sunday"
        ],
        [
         "15",
         "A016",
         "P016",
         "D008",
         "2023-06-30 00:00:00",
         "11:00:00",
         "Consultation",
         "Scheduled",
         "Friday"
        ],
        [
         "16",
         "A017",
         "P037",
         "D009",
         "2023-07-11 00:00:00",
         "17:00:00",
         "Emergency",
         "Scheduled",
         "Tuesday"
        ],
        [
         "17",
         "A018",
         "P022",
         "D007",
         "2023-11-14 00:00:00",
         "9:45:00",
         "Consultation",
         "Cancelled",
         "Tuesday"
        ],
        [
         "18",
         "A019",
         "P029",
         "D001",
         "2023-02-06 00:00:00",
         "15:30:00",
         "Checkup",
         "Cancelled",
         "Monday"
        ],
        [
         "19",
         "A020",
         "P014",
         "D003",
         "2023-12-05 00:00:00",
         "15:15:00",
         "Consultation",
         "Completed",
         "Tuesday"
        ],
        [
         "20",
         "A021",
         "P028",
         "D009",
         "2023-04-24 00:00:00",
         "10:00:00",
         "Therapy",
         "No-show",
         "Monday"
        ],
        [
         "21",
         "A022",
         "P005",
         "D001",
         "2023-11-14 00:00:00",
         "13:00:00",
         "Consultation",
         "No-show",
         "Tuesday"
        ],
        [
         "22",
         "A023",
         "P047",
         "D009",
         "2023-05-09 00:00:00",
         "14:30:00",
         "Follow-up",
         "Cancelled",
         "Tuesday"
        ],
        [
         "23",
         "A024",
         "P049",
         "D008",
         "2023-06-21 00:00:00",
         "8:00:00",
         "Checkup",
         "Completed",
         "Wednesday"
        ],
        [
         "24",
         "A025",
         "P030",
         "D001",
         "2023-02-25 00:00:00",
         "8:00:00",
         "Follow-up",
         "No-show",
         "Saturday"
        ],
        [
         "25",
         "A026",
         "P046",
         "D006",
         "2023-03-17 00:00:00",
         "14:15:00",
         "Follow-up",
         "Cancelled",
         "Friday"
        ],
        [
         "26",
         "A027",
         "P005",
         "D005",
         "2023-11-14 00:00:00",
         "12:45:00",
         "Therapy",
         "Scheduled",
         "Tuesday"
        ],
        [
         "27",
         "A028",
         "P012",
         "D006",
         "2023-10-29 00:00:00",
         "15:30:00",
         "Checkup",
         "No-show",
         "Sunday"
        ],
        [
         "28",
         "A029",
         "P016",
         "D010",
         "2023-06-25 00:00:00",
         "14:30:00",
         "Checkup",
         "Completed",
         "Sunday"
        ],
        [
         "29",
         "A030",
         "P026",
         "D005",
         "2023-08-29 00:00:00",
         "13:15:00",
         "Checkup",
         "Completed",
         "Tuesday"
        ],
        [
         "30",
         "A031",
         "P026",
         "D006",
         "2023-04-04 00:00:00",
         "10:30:00",
         "Checkup",
         "Completed",
         "Tuesday"
        ],
        [
         "31",
         "A032",
         "P048",
         "D005",
         "2023-11-06 00:00:00",
         "10:45:00",
         "Checkup",
         "Scheduled",
         "Monday"
        ],
        [
         "32",
         "A033",
         "P021",
         "D005",
         "2023-09-23 00:00:00",
         "17:45:00",
         "Therapy",
         "No-show",
         "Saturday"
        ],
        [
         "33",
         "A034",
         "P039",
         "D004",
         "2023-06-13 00:00:00",
         "11:30:00",
         "Consultation",
         "No-show",
         "Tuesday"
        ],
        [
         "34",
         "A035",
         "P036",
         "D003",
         "2023-04-18 00:00:00",
         "8:45:00",
         "Follow-up",
         "Scheduled",
         "Tuesday"
        ],
        [
         "35",
         "A036",
         "P033",
         "D003",
         "2023-01-08 00:00:00",
         "14:30:00",
         "Checkup",
         "No-show",
         "Sunday"
        ],
        [
         "36",
         "A037",
         "P030",
         "D004",
         "2023-03-28 00:00:00",
         "11:00:00",
         "Consultation",
         "Scheduled",
         "Tuesday"
        ],
        [
         "37",
         "A038",
         "P037",
         "D009",
         "2023-02-23 00:00:00",
         "13:00:00",
         "Consultation",
         "Scheduled",
         "Thursday"
        ],
        [
         "38",
         "A039",
         "P023",
         "D002",
         "2023-04-17 00:00:00",
         "8:00:00",
         "Follow-up",
         "Scheduled",
         "Monday"
        ],
        [
         "39",
         "A040",
         "P010",
         "D009",
         "2023-03-27 00:00:00",
         "12:30:00",
         "Therapy",
         "Completed",
         "Monday"
        ],
        [
         "40",
         "A041",
         "P005",
         "D001",
         "2023-01-01 00:00:00",
         "14:00:00",
         "Emergency",
         "No-show",
         "Sunday"
        ],
        [
         "41",
         "A042",
         "P036",
         "D001",
         "2023-03-21 00:00:00",
         "11:15:00",
         "Emergency",
         "Scheduled",
         "Tuesday"
        ],
        [
         "42",
         "A043",
         "P034",
         "D005",
         "2023-03-29 00:00:00",
         "9:15:00",
         "Consultation",
         "No-show",
         "Wednesday"
        ],
        [
         "43",
         "A044",
         "P031",
         "D006",
         "2023-09-20 00:00:00",
         "12:30:00",
         "Follow-up",
         "Completed",
         "Wednesday"
        ],
        [
         "44",
         "A045",
         "P010",
         "D006",
         "2023-09-28 00:00:00",
         "17:00:00",
         "Emergency",
         "Scheduled",
         "Thursday"
        ],
        [
         "45",
         "A046",
         "P019",
         "D003",
         "2023-12-20 00:00:00",
         "13:15:00",
         "Consultation",
         "Cancelled",
         "Wednesday"
        ],
        [
         "46",
         "A047",
         "P032",
         "D007",
         "2023-05-02 00:00:00",
         "11:00:00",
         "Therapy",
         "Completed",
         "Tuesday"
        ],
        [
         "47",
         "A048",
         "P001",
         "D009",
         "2023-01-16 00:00:00",
         "15:45:00",
         "Emergency",
         "Cancelled",
         "Monday"
        ],
        [
         "48",
         "A049",
         "P005",
         "D010",
         "2023-04-30 00:00:00",
         "15:30:00",
         "Consultation",
         "No-show",
         "Sunday"
        ],
        [
         "49",
         "A050",
         "P045",
         "D008",
         "2023-08-16 00:00:00",
         "15:00:00",
         "Consultation",
         "No-show",
         "Wednesday"
        ]
       ],
       "shape": {
        "columns": 8,
        "rows": 200
       }
      },
      "text/html": [
       "<div>\n",
       "<style scoped>\n",
       "    .dataframe tbody tr th:only-of-type {\n",
       "        vertical-align: middle;\n",
       "    }\n",
       "\n",
       "    .dataframe tbody tr th {\n",
       "        vertical-align: top;\n",
       "    }\n",
       "\n",
       "    .dataframe thead th {\n",
       "        text-align: right;\n",
       "    }\n",
       "</style>\n",
       "<table border=\"1\" class=\"dataframe\">\n",
       "  <thead>\n",
       "    <tr style=\"text-align: right;\">\n",
       "      <th></th>\n",
       "      <th>appointment_id</th>\n",
       "      <th>patient_id</th>\n",
       "      <th>doctor_id</th>\n",
       "      <th>appointment_date</th>\n",
       "      <th>appointment_time</th>\n",
       "      <th>reason_for_visit</th>\n",
       "      <th>status</th>\n",
       "      <th>day_of_week</th>\n",
       "    </tr>\n",
       "  </thead>\n",
       "  <tbody>\n",
       "    <tr>\n",
       "      <th>0</th>\n",
       "      <td>A001</td>\n",
       "      <td>P034</td>\n",
       "      <td>D009</td>\n",
       "      <td>2023-08-09</td>\n",
       "      <td>15:15:00</td>\n",
       "      <td>Therapy</td>\n",
       "      <td>Scheduled</td>\n",
       "      <td>Wednesday</td>\n",
       "    </tr>\n",
       "    <tr>\n",
       "      <th>1</th>\n",
       "      <td>A002</td>\n",
       "      <td>P032</td>\n",
       "      <td>D004</td>\n",
       "      <td>2023-06-09</td>\n",
       "      <td>14:30:00</td>\n",
       "      <td>Therapy</td>\n",
       "      <td>No-show</td>\n",
       "      <td>Friday</td>\n",
       "    </tr>\n",
       "    <tr>\n",
       "      <th>2</th>\n",
       "      <td>A003</td>\n",
       "      <td>P048</td>\n",
       "      <td>D004</td>\n",
       "      <td>2023-06-28</td>\n",
       "      <td>8:00:00</td>\n",
       "      <td>Consultation</td>\n",
       "      <td>Cancelled</td>\n",
       "      <td>Wednesday</td>\n",
       "    </tr>\n",
       "    <tr>\n",
       "      <th>3</th>\n",
       "      <td>A004</td>\n",
       "      <td>P025</td>\n",
       "      <td>D006</td>\n",
       "      <td>2023-09-01</td>\n",
       "      <td>9:15:00</td>\n",
       "      <td>Consultation</td>\n",
       "      <td>Cancelled</td>\n",
       "      <td>Friday</td>\n",
       "    </tr>\n",
       "    <tr>\n",
       "      <th>4</th>\n",
       "      <td>A005</td>\n",
       "      <td>P040</td>\n",
       "      <td>D003</td>\n",
       "      <td>2023-07-06</td>\n",
       "      <td>12:45:00</td>\n",
       "      <td>Emergency</td>\n",
       "      <td>No-show</td>\n",
       "      <td>Thursday</td>\n",
       "    </tr>\n",
       "    <tr>\n",
       "      <th>...</th>\n",
       "      <td>...</td>\n",
       "      <td>...</td>\n",
       "      <td>...</td>\n",
       "      <td>...</td>\n",
       "      <td>...</td>\n",
       "      <td>...</td>\n",
       "      <td>...</td>\n",
       "      <td>...</td>\n",
       "    </tr>\n",
       "    <tr>\n",
       "      <th>195</th>\n",
       "      <td>A196</td>\n",
       "      <td>P045</td>\n",
       "      <td>D006</td>\n",
       "      <td>2023-10-26</td>\n",
       "      <td>9:45:00</td>\n",
       "      <td>Checkup</td>\n",
       "      <td>Cancelled</td>\n",
       "      <td>Thursday</td>\n",
       "    </tr>\n",
       "    <tr>\n",
       "      <th>196</th>\n",
       "      <td>A197</td>\n",
       "      <td>P001</td>\n",
       "      <td>D005</td>\n",
       "      <td>2023-04-01</td>\n",
       "      <td>13:30:00</td>\n",
       "      <td>Emergency</td>\n",
       "      <td>No-show</td>\n",
       "      <td>Saturday</td>\n",
       "    </tr>\n",
       "    <tr>\n",
       "      <th>197</th>\n",
       "      <td>A198</td>\n",
       "      <td>P022</td>\n",
       "      <td>D006</td>\n",
       "      <td>2023-05-15</td>\n",
       "      <td>8:30:00</td>\n",
       "      <td>Therapy</td>\n",
       "      <td>No-show</td>\n",
       "      <td>Monday</td>\n",
       "    </tr>\n",
       "    <tr>\n",
       "      <th>198</th>\n",
       "      <td>A199</td>\n",
       "      <td>P017</td>\n",
       "      <td>D001</td>\n",
       "      <td>2023-05-01</td>\n",
       "      <td>12:45:00</td>\n",
       "      <td>Follow-up</td>\n",
       "      <td>Completed</td>\n",
       "      <td>Monday</td>\n",
       "    </tr>\n",
       "    <tr>\n",
       "      <th>199</th>\n",
       "      <td>A200</td>\n",
       "      <td>P007</td>\n",
       "      <td>D005</td>\n",
       "      <td>2023-12-30</td>\n",
       "      <td>10:15:00</td>\n",
       "      <td>Consultation</td>\n",
       "      <td>Cancelled</td>\n",
       "      <td>Saturday</td>\n",
       "    </tr>\n",
       "  </tbody>\n",
       "</table>\n",
       "<p>200 rows × 8 columns</p>\n",
       "</div>"
      ],
      "text/plain": [
       "    appointment_id patient_id doctor_id appointment_date appointment_time  \\\n",
       "0             A001       P034      D009       2023-08-09         15:15:00   \n",
       "1             A002       P032      D004       2023-06-09         14:30:00   \n",
       "2             A003       P048      D004       2023-06-28          8:00:00   \n",
       "3             A004       P025      D006       2023-09-01          9:15:00   \n",
       "4             A005       P040      D003       2023-07-06         12:45:00   \n",
       "..             ...        ...       ...              ...              ...   \n",
       "195           A196       P045      D006       2023-10-26          9:45:00   \n",
       "196           A197       P001      D005       2023-04-01         13:30:00   \n",
       "197           A198       P022      D006       2023-05-15          8:30:00   \n",
       "198           A199       P017      D001       2023-05-01         12:45:00   \n",
       "199           A200       P007      D005       2023-12-30         10:15:00   \n",
       "\n",
       "    reason_for_visit     status day_of_week  \n",
       "0            Therapy  Scheduled   Wednesday  \n",
       "1            Therapy    No-show      Friday  \n",
       "2       Consultation  Cancelled   Wednesday  \n",
       "3       Consultation  Cancelled      Friday  \n",
       "4          Emergency    No-show    Thursday  \n",
       "..               ...        ...         ...  \n",
       "195          Checkup  Cancelled    Thursday  \n",
       "196        Emergency    No-show    Saturday  \n",
       "197          Therapy    No-show      Monday  \n",
       "198        Follow-up  Completed      Monday  \n",
       "199     Consultation  Cancelled    Saturday  \n",
       "\n",
       "[200 rows x 8 columns]"
      ]
     },
     "execution_count": 15,
     "metadata": {},
     "output_type": "execute_result"
    }
   ],
   "source": [
    "#No-show analysis by day of week\n",
    "#Derive weekday from date column\n",
    "appointments_data['appointment_date'] = pd.to_datetime(appointments_data['appointment_date'])\n",
    "appointments_data['day_of_week'] = appointments_data['appointment_date'].dt.day_name()\n",
    "appointments_data"
   ]
  },
  {
   "cell_type": "code",
   "execution_count": 16,
   "id": "e9fc6969",
   "metadata": {},
   "outputs": [
    {
     "data": {
      "application/vnd.microsoft.datawrangler.viewer.v0+json": {
       "columns": [
        {
         "name": "day_of_week",
         "rawType": "object",
         "type": "string"
        },
        {
         "name": "day_of_week",
         "rawType": "int64",
         "type": "integer"
        }
       ],
       "ref": "8c1a881b-f35e-4e80-86a6-554831eb8af1",
       "rows": [
        [
         "Friday",
         "4"
        ],
        [
         "Monday",
         "6"
        ],
        [
         "Saturday",
         "5"
        ],
        [
         "Sunday",
         "11"
        ],
        [
         "Thursday",
         "6"
        ],
        [
         "Tuesday",
         "7"
        ],
        [
         "Wednesday",
         "13"
        ]
       ],
       "shape": {
        "columns": 1,
        "rows": 7
       }
      },
      "text/plain": [
       "day_of_week\n",
       "Friday        4\n",
       "Monday        6\n",
       "Saturday      5\n",
       "Sunday       11\n",
       "Thursday      6\n",
       "Tuesday       7\n",
       "Wednesday    13\n",
       "Name: day_of_week, dtype: int64"
      ]
     },
     "execution_count": 16,
     "metadata": {},
     "output_type": "execute_result"
    }
   ],
   "source": [
    "#Weekday with most no-shows\n",
    "no_show_days = appointments_data[appointments_data['status']=='No-show']\n",
    "no_show_days.groupby('day_of_week')['day_of_week'].count()"
   ]
  },
  {
   "cell_type": "code",
   "execution_count": 17,
   "id": "094b482c",
   "metadata": {},
   "outputs": [
    {
     "name": "stderr",
     "output_type": "stream",
     "text": [
      "C:\\Users\\enosa\\AppData\\Local\\Temp\\ipykernel_452332\\1901713536.py:5: FutureWarning: \n",
      "\n",
      "Passing `palette` without assigning `hue` is deprecated and will be removed in v0.14.0. Assign the `y` variable to `hue` and set `legend=False` for the same effect.\n",
      "\n",
      "  sns.barplot(x=doctor_load.values, y=doctor_load.index, palette='viridis')\n"
     ]
    },
    {
     "data": {
      "image/png": "[encoded data removed]",
      "text/plain": [
       "<Figure size 1000x600 with 1 Axes>"
      ]
     },
     "metadata": {},
     "output_type": "display_data"
    }
   ],
   "source": [
    "#doctor load distribution\n",
    "doctor_load = appointments_data.groupby('doctor_id')['appointment_id'].count().sort_values(ascending=False)\n",
    "doctor_load\n",
    "plt.figure(figsize=(10, 6))\n",
    "sns.barplot(x=doctor_load.values, y=doctor_load.index, palette='viridis')\n",
    "plt.title('Appointment volume per doctor')\n",
    "plt.xlabel('Doctor ID')\n",
    "plt.ylabel('Number of Appointments')\n",
    "plt.show()"
   ]
  },
  {
   "cell_type": "code",
   "execution_count": 18,
   "id": "c0adf32e",
   "metadata": {},
   "outputs": [
    {
     "name": "stderr",
     "output_type": "stream",
     "text": [
      "C:\\Users\\enosa\\AppData\\Local\\Temp\\ipykernel_452332\\2968270745.py:5: FutureWarning: \n",
      "\n",
      "Passing `palette` without assigning `hue` is deprecated and will be removed in v0.14.0. Assign the `x` variable to `hue` and set `legend=False` for the same effect.\n",
      "\n",
      "  sns.barplot(x = branch_load['hospital_branch'].values, y = branch_load['appointment_id'].index, palette = 'viridis')\n"
     ]
    },
    {
     "data": {
      "image/png": "[encoded data removed]",
      "text/plain": [
       "<Figure size 1000x600 with 1 Axes>"
      ]
     },
     "metadata": {},
     "output_type": "display_data"
    }
   ],
   "source": [
    "#load distribution by hospital branch\n",
    "branch_load = pd.merge(appointments_data,doctors, on = 'doctor_id')\n",
    "branch_load.groupby('hospital_branch')['appointment_id'].count()\n",
    "plt.figure(figsize=(10,6))\n",
    "sns.barplot(x = branch_load['hospital_branch'].values, y = branch_load['appointment_id'].index, palette = 'viridis')\n",
    "plt.title('Patient distribution by hospital branch')\n",
    "plt.xlabel('count of patients')\n",
    "plt.ylabel('Hospital Branch')\n",
    "plt.show()"
   ]
  },
  {
   "cell_type": "code",
   "execution_count": 21,
   "id": "74a219dc",
   "metadata": {},
   "outputs": [
    {
     "name": "stdout",
     "output_type": "stream",
     "text": [
      "specialization\n",
      "Dermatology    70\n",
      "Oncology       32\n",
      "Pediatrics     98\n",
      "Name: appointment_id, dtype: int64\n"
     ]
    },
    {
     "data": {
      "image/png": "[encoded data removed]",
      "text/plain": [
       "<Figure size 400x400 with 1 Axes>"
      ]
     },
     "metadata": {},
     "output_type": "display_data"
    }
   ],
   "source": [
    "#demands by specialization\n",
    "spec_data = pd.merge(appointments_data, doctors, on='doctor_id')\n",
    "spec_counts = spec_data.groupby('specialization')['appointment_id'].count()\n",
    "print(spec_counts)\n",
    "\n",
    "# Pie chart for specialization demand\n",
    "plt.figure(figsize=(4, 4))\n",
    "plt.pie(spec_counts, labels=spec_counts.index, autopct='%1.1f%%', startangle=140, colors=sns.color_palette('colorblind'))\n",
    "plt.title('Demand by Specialization')\n",
    "plt.axis('equal')\n",
    "plt.show()"
   ]
  },
  {
   "cell_type": "code",
   "execution_count": null,
   "id": "11be6fe5",
   "metadata": {},
   "outputs": [],
   "source": [
    "treat = pd.read_csv('C:/Users/enosa/OneDrive/Desktop/Data Analysis/Datasets/Hospital management/treatments.csv')\n",
    "treat_counts = treat.groupby('treatment_type')['appointment_id'].count()\n",
    "print(treat_counts)\n",
    "plt.figure(figsize=(4,4))\n",
    "plt.pie(treat_counts,labels= treat_counts.index, autopct= '%1.1f%%', startangle=140, colors= sns.color_palette('viridis'))\n",
    "plt.title('treament demand analysis')\n",
    "plt.show()\n"
   ]
  },
  {
   "cell_type": "code",
   "execution_count": 22,
   "id": "6f1f6557",
   "metadata": {},
   "outputs": [
    {
     "data": {
      "application/vnd.microsoft.datawrangler.viewer.v0+json": {
       "columns": [
        {
         "name": "index",
         "rawType": "int64",
         "type": "integer"
        },
        {
         "name": "appointment_id",
         "rawType": "object",
         "type": "string"
        },
        {
         "name": "patient_id",
         "rawType": "object",
         "type": "string"
        },
        {
         "name": "doctor_id",
         "rawType": "object",
         "type": "string"
        },
        {
         "name": "appointment_date",
         "rawType": "datetime64[ns]",
         "type": "datetime"
        },
        {
         "name": "appointment_time",
         "rawType": "object",
         "type": "string"
        },
        {
         "name": "reason_for_visit",
         "rawType": "object",
         "type": "string"
        },
        {
         "name": "status",
         "rawType": "object",
         "type": "string"
        },
        {
         "name": "day_of_week",
         "rawType": "object",
         "type": "string"
        }
       ],
       "ref": "fbc17f55-c0ef-4f73-9f0f-6067928c16bb",
       "rows": [
        [
         "0",
         "A001",
         "P034",
         "D009",
         "2023-08-09 00:00:00",
         "15:15:00",
         "Therapy",
         "Scheduled",
         "Wednesday"
        ],
        [
         "1",
         "A002",
         "P032",
         "D004",
         "2023-06-09 00:00:00",
         "14:30:00",
         "Therapy",
         "No-show",
         "Friday"
        ],
        [
         "2",
         "A003",
         "P048",
         "D004",
         "2023-06-28 00:00:00",
         "8:00:00",
         "Consultation",
         "Cancelled",
         "Wednesday"
        ],
        [
         "3",
         "A004",
         "P025",
         "D006",
         "2023-09-01 00:00:00",
         "9:15:00",
         "Consultation",
         "Cancelled",
         "Friday"
        ],
        [
         "4",
         "A005",
         "P040",
         "D003",
         "2023-07-06 00:00:00",
         "12:45:00",
         "Emergency",
         "No-show",
         "Thursday"
        ],
        [
         "5",
         "A006",
         "P045",
         "D006",
         "2023-06-19 00:00:00",
         "16:15:00",
         "Checkup",
         "Scheduled",
         "Monday"
        ],
        [
         "6",
         "A007",
         "P001",
         "D007",
         "2023-04-09 00:00:00",
         "10:30:00",
         "Consultation",
         "Scheduled",
         "Sunday"
        ],
        [
         "7",
         "A008",
         "P016",
         "D010",
         "2023-05-24 00:00:00",
         "8:45:00",
         "Consultation",
         "Cancelled",
         "Wednesday"
        ],
        [
         "8",
         "A009",
         "P039",
         "D010",
         "2023-03-05 00:00:00",
         "13:45:00",
         "Follow-up",
         "Scheduled",
         "Sunday"
        ],
        [
         "9",
         "A010",
         "P005",
         "D003",
         "2023-01-13 00:00:00",
         "15:30:00",
         "Therapy",
         "Completed",
         "Friday"
        ],
        [
         "10",
         "A011",
         "P022",
         "D007",
         "2023-11-12 00:00:00",
         "16:00:00",
         "Checkup",
         "No-show",
         "Sunday"
        ],
        [
         "11",
         "A012",
         "P029",
         "D003",
         "2023-05-07 00:00:00",
         "10:00:00",
         "Follow-up",
         "Completed",
         "Sunday"
        ],
        [
         "12",
         "A013",
         "P003",
         "D002",
         "2023-08-16 00:00:00",
         "12:00:00",
         "Emergency",
         "Scheduled",
         "Wednesday"
        ],
        [
         "13",
         "A014",
         "P012",
         "D010",
         "2023-05-25 00:00:00",
         "10:30:00",
         "Emergency",
         "Cancelled",
         "Thursday"
        ],
        [
         "14",
         "A015",
         "P026",
         "D004",
         "2023-01-15 00:00:00",
         "17:15:00",
         "Consultation",
         "No-show",
         "Sunday"
        ],
        [
         "15",
         "A016",
         "P016",
         "D008",
         "2023-06-30 00:00:00",
         "11:00:00",
         "Consultation",
         "Scheduled",
         "Friday"
        ],
        [
         "16",
         "A017",
         "P037",
         "D009",
         "2023-07-11 00:00:00",
         "17:00:00",
         "Emergency",
         "Scheduled",
         "Tuesday"
        ],
        [
         "17",
         "A018",
         "P022",
         "D007",
         "2023-11-14 00:00:00",
         "9:45:00",
         "Consultation",
         "Cancelled",
         "Tuesday"
        ],
        [
         "18",
         "A019",
         "P029",
         "D001",
         "2023-02-06 00:00:00",
         "15:30:00",
         "Checkup",
         "Cancelled",
         "Monday"
        ],
        [
         "19",
         "A020",
         "P014",
         "D003",
         "2023-12-05 00:00:00",
         "15:15:00",
         "Consultation",
         "Completed",
         "Tuesday"
        ],
        [
         "20",
         "A021",
         "P028",
         "D009",
         "2023-04-24 00:00:00",
         "10:00:00",
         "Therapy",
         "No-show",
         "Monday"
        ],
        [
         "21",
         "A022",
         "P005",
         "D001",
         "2023-11-14 00:00:00",
         "13:00:00",
         "Consultation",
         "No-show",
         "Tuesday"
        ],
        [
         "22",
         "A023",
         "P047",
         "D009",
         "2023-05-09 00:00:00",
         "14:30:00",
         "Follow-up",
         "Cancelled",
         "Tuesday"
        ],
        [
         "23",
         "A024",
         "P049",
         "D008",
         "2023-06-21 00:00:00",
         "8:00:00",
         "Checkup",
         "Completed",
         "Wednesday"
        ],
        [
         "24",
         "A025",
         "P030",
         "D001",
         "2023-02-25 00:00:00",
         "8:00:00",
         "Follow-up",
         "No-show",
         "Saturday"
        ],
        [
         "25",
         "A026",
         "P046",
         "D006",
         "2023-03-17 00:00:00",
         "14:15:00",
         "Follow-up",
         "Cancelled",
         "Friday"
        ],
        [
         "26",
         "A027",
         "P005",
         "D005",
         "2023-11-14 00:00:00",
         "12:45:00",
         "Therapy",
         "Scheduled",
         "Tuesday"
        ],
        [
         "27",
         "A028",
         "P012",
         "D006",
         "2023-10-29 00:00:00",
         "15:30:00",
         "Checkup",
         "No-show",
         "Sunday"
        ],
        [
         "28",
         "A029",
         "P016",
         "D010",
         "2023-06-25 00:00:00",
         "14:30:00",
         "Checkup",
         "Completed",
         "Sunday"
        ],
        [
         "29",
         "A030",
         "P026",
         "D005",
         "2023-08-29 00:00:00",
         "13:15:00",
         "Checkup",
         "Completed",
         "Tuesday"
        ],
        [
         "30",
         "A031",
         "P026",
         "D006",
         "2023-04-04 00:00:00",
         "10:30:00",
         "Checkup",
         "Completed",
         "Tuesday"
        ],
        [
         "31",
         "A032",
         "P048",
         "D005",
         "2023-11-06 00:00:00",
         "10:45:00",
         "Checkup",
         "Scheduled",
         "Monday"
        ],
        [
         "32",
         "A033",
         "P021",
         "D005",
         "2023-09-23 00:00:00",
         "17:45:00",
         "Therapy",
         "No-show",
         "Saturday"
        ],
        [
         "33",
         "A034",
         "P039",
         "D004",
         "2023-06-13 00:00:00",
         "11:30:00",
         "Consultation",
         "No-show",
         "Tuesday"
        ],
        [
         "34",
         "A035",
         "P036",
         "D003",
         "2023-04-18 00:00:00",
         "8:45:00",
         "Follow-up",
         "Scheduled",
         "Tuesday"
        ],
        [
         "35",
         "A036",
         "P033",
         "D003",
         "2023-01-08 00:00:00",
         "14:30:00",
         "Checkup",
         "No-show",
         "Sunday"
        ],
        [
         "36",
         "A037",
         "P030",
         "D004",
         "2023-03-28 00:00:00",
         "11:00:00",
         "Consultation",
         "Scheduled",
         "Tuesday"
        ],
        [
         "37",
         "A038",
         "P037",
         "D009",
         "2023-02-23 00:00:00",
         "13:00:00",
         "Consultation",
         "Scheduled",
         "Thursday"
        ],
        [
         "38",
         "A039",
         "P023",
         "D002",
         "2023-04-17 00:00:00",
         "8:00:00",
         "Follow-up",
         "Scheduled",
         "Monday"
        ],
        [
         "39",
         "A040",
         "P010",
         "D009",
         "2023-03-27 00:00:00",
         "12:30:00",
         "Therapy",
         "Completed",
         "Monday"
        ],
        [
         "40",
         "A041",
         "P005",
         "D001",
         "2023-01-01 00:00:00",
         "14:00:00",
         "Emergency",
         "No-show",
         "Sunday"
        ],
        [
         "41",
         "A042",
         "P036",
         "D001",
         "2023-03-21 00:00:00",
         "11:15:00",
         "Emergency",
         "Scheduled",
         "Tuesday"
        ],
        [
         "42",
         "A043",
         "P034",
         "D005",
         "2023-03-29 00:00:00",
         "9:15:00",
         "Consultation",
         "No-show",
         "Wednesday"
        ],
        [
         "43",
         "A044",
         "P031",
         "D006",
         "2023-09-20 00:00:00",
         "12:30:00",
         "Follow-up",
         "Completed",
         "Wednesday"
        ],
        [
         "44",
         "A045",
         "P010",
         "D006",
         "2023-09-28 00:00:00",
         "17:00:00",
         "Emergency",
         "Scheduled",
         "Thursday"
        ],
        [
         "45",
         "A046",
         "P019",
         "D003",
         "2023-12-20 00:00:00",
         "13:15:00",
         "Consultation",
         "Cancelled",
         "Wednesday"
        ],
        [
         "46",
         "A047",
         "P032",
         "D007",
         "2023-05-02 00:00:00",
         "11:00:00",
         "Therapy",
         "Completed",
         "Tuesday"
        ],
        [
         "47",
         "A048",
         "P001",
         "D009",
         "2023-01-16 00:00:00",
         "15:45:00",
         "Emergency",
         "Cancelled",
         "Monday"
        ],
        [
         "48",
         "A049",
         "P005",
         "D010",
         "2023-04-30 00:00:00",
         "15:30:00",
         "Consultation",
         "No-show",
         "Sunday"
        ],
        [
         "49",
         "A050",
         "P045",
         "D008",
         "2023-08-16 00:00:00",
         "15:00:00",
         "Consultation",
         "No-show",
         "Wednesday"
        ]
       ],
       "shape": {
        "columns": 8,
        "rows": 200
       }
      },
      "text/html": [
       "<div>\n",
       "<style scoped>\n",
       "    .dataframe tbody tr th:only-of-type {\n",
       "        vertical-align: middle;\n",
       "    }\n",
       "\n",
       "    .dataframe tbody tr th {\n",
       "        vertical-align: top;\n",
       "    }\n",
       "\n",
       "    .dataframe thead th {\n",
       "        text-align: right;\n",
       "    }\n",
       "</style>\n",
       "<table border=\"1\" class=\"dataframe\">\n",
       "  <thead>\n",
       "    <tr style=\"text-align: right;\">\n",
       "      <th></th>\n",
       "      <th>appointment_id</th>\n",
       "      <th>patient_id</th>\n",
       "      <th>doctor_id</th>\n",
       "      <th>appointment_date</th>\n",
       "      <th>appointment_time</th>\n",
       "      <th>reason_for_visit</th>\n",
       "      <th>status</th>\n",
       "      <th>day_of_week</th>\n",
       "    </tr>\n",
       "  </thead>\n",
       "  <tbody>\n",
       "    <tr>\n",
       "      <th>0</th>\n",
       "      <td>A001</td>\n",
       "      <td>P034</td>\n",
       "      <td>D009</td>\n",
       "      <td>2023-08-09</td>\n",
       "      <td>15:15:00</td>\n",
       "      <td>Therapy</td>\n",
       "      <td>Scheduled</td>\n",
       "      <td>Wednesday</td>\n",
       "    </tr>\n",
       "    <tr>\n",
       "      <th>1</th>\n",
       "      <td>A002</td>\n",
       "      <td>P032</td>\n",
       "      <td>D004</td>\n",
       "      <td>2023-06-09</td>\n",
       "      <td>14:30:00</td>\n",
       "      <td>Therapy</td>\n",
       "      <td>No-show</td>\n",
       "      <td>Friday</td>\n",
       "    </tr>\n",
       "    <tr>\n",
       "      <th>2</th>\n",
       "      <td>A003</td>\n",
       "      <td>P048</td>\n",
       "      <td>D004</td>\n",
       "      <td>2023-06-28</td>\n",
       "      <td>8:00:00</td>\n",
       "      <td>Consultation</td>\n",
       "      <td>Cancelled</td>\n",
       "      <td>Wednesday</td>\n",
       "    </tr>\n",
       "    <tr>\n",
       "      <th>3</th>\n",
       "      <td>A004</td>\n",
       "      <td>P025</td>\n",
       "      <td>D006</td>\n",
       "      <td>2023-09-01</td>\n",
       "      <td>9:15:00</td>\n",
       "      <td>Consultation</td>\n",
       "      <td>Cancelled</td>\n",
       "      <td>Friday</td>\n",
       "    </tr>\n",
       "    <tr>\n",
       "      <th>4</th>\n",
       "      <td>A005</td>\n",
       "      <td>P040</td>\n",
       "      <td>D003</td>\n",
       "      <td>2023-07-06</td>\n",
       "      <td>12:45:00</td>\n",
       "      <td>Emergency</td>\n",
       "      <td>No-show</td>\n",
       "      <td>Thursday</td>\n",
       "    </tr>\n",
       "    <tr>\n",
       "      <th>...</th>\n",
       "      <td>...</td>\n",
       "      <td>...</td>\n",
       "      <td>...</td>\n",
       "      <td>...</td>\n",
       "      <td>...</td>\n",
       "      <td>...</td>\n",
       "      <td>...</td>\n",
       "      <td>...</td>\n",
       "    </tr>\n",
       "    <tr>\n",
       "      <th>195</th>\n",
       "      <td>A196</td>\n",
       "      <td>P045</td>\n",
       "      <td>D006</td>\n",
       "      <td>2023-10-26</td>\n",
       "      <td>9:45:00</td>\n",
       "      <td>Checkup</td>\n",
       "      <td>Cancelled</td>\n",
       "      <td>Thursday</td>\n",
       "    </tr>\n",
       "    <tr>\n",
       "      <th>196</th>\n",
       "      <td>A197</td>\n",
       "      <td>P001</td>\n",
       "      <td>D005</td>\n",
       "      <td>2023-04-01</td>\n",
       "      <td>13:30:00</td>\n",
       "      <td>Emergency</td>\n",
       "      <td>No-show</td>\n",
       "      <td>Saturday</td>\n",
       "    </tr>\n",
       "    <tr>\n",
       "      <th>197</th>\n",
       "      <td>A198</td>\n",
       "      <td>P022</td>\n",
       "      <td>D006</td>\n",
       "      <td>2023-05-15</td>\n",
       "      <td>8:30:00</td>\n",
       "      <td>Therapy</td>\n",
       "      <td>No-show</td>\n",
       "      <td>Monday</td>\n",
       "    </tr>\n",
       "    <tr>\n",
       "      <th>198</th>\n",
       "      <td>A199</td>\n",
       "      <td>P017</td>\n",
       "      <td>D001</td>\n",
       "      <td>2023-05-01</td>\n",
       "      <td>12:45:00</td>\n",
       "      <td>Follow-up</td>\n",
       "      <td>Completed</td>\n",
       "      <td>Monday</td>\n",
       "    </tr>\n",
       "    <tr>\n",
       "      <th>199</th>\n",
       "      <td>A200</td>\n",
       "      <td>P007</td>\n",
       "      <td>D005</td>\n",
       "      <td>2023-12-30</td>\n",
       "      <td>10:15:00</td>\n",
       "      <td>Consultation</td>\n",
       "      <td>Cancelled</td>\n",
       "      <td>Saturday</td>\n",
       "    </tr>\n",
       "  </tbody>\n",
       "</table>\n",
       "<p>200 rows × 8 columns</p>\n",
       "</div>"
      ],
      "text/plain": [
       "    appointment_id patient_id doctor_id appointment_date appointment_time  \\\n",
       "0             A001       P034      D009       2023-08-09         15:15:00   \n",
       "1             A002       P032      D004       2023-06-09         14:30:00   \n",
       "2             A003       P048      D004       2023-06-28          8:00:00   \n",
       "3             A004       P025      D006       2023-09-01          9:15:00   \n",
       "4             A005       P040      D003       2023-07-06         12:45:00   \n",
       "..             ...        ...       ...              ...              ...   \n",
       "195           A196       P045      D006       2023-10-26          9:45:00   \n",
       "196           A197       P001      D005       2023-04-01         13:30:00   \n",
       "197           A198       P022      D006       2023-05-15          8:30:00   \n",
       "198           A199       P017      D001       2023-05-01         12:45:00   \n",
       "199           A200       P007      D005       2023-12-30         10:15:00   \n",
       "\n",
       "    reason_for_visit     status day_of_week  \n",
       "0            Therapy  Scheduled   Wednesday  \n",
       "1            Therapy    No-show      Friday  \n",
       "2       Consultation  Cancelled   Wednesday  \n",
       "3       Consultation  Cancelled      Friday  \n",
       "4          Emergency    No-show    Thursday  \n",
       "..               ...        ...         ...  \n",
       "195          Checkup  Cancelled    Thursday  \n",
       "196        Emergency    No-show    Saturday  \n",
       "197          Therapy    No-show      Monday  \n",
       "198        Follow-up  Completed      Monday  \n",
       "199     Consultation  Cancelled    Saturday  \n",
       "\n",
       "[200 rows x 8 columns]"
      ]
     },
     "execution_count": 22,
     "metadata": {},
     "output_type": "execute_result"
    }
   ],
   "source": [
    "#patient wait time analysis\n",
    "appointments_data\n"
   ]
  },
  {
   "cell_type": "code",
   "execution_count": 23,
   "id": "cb28bbae",
   "metadata": {},
   "outputs": [
    {
     "data": {
      "image/png": "[encoded data removed]",
      "text/plain": [
       "<Figure size 1200x600 with 1 Axes>"
      ]
     },
     "metadata": {},
     "output_type": "display_data"
    }
   ],
   "source": [
    "#peak appointment dates\n",
    "peaks = appointments_data.groupby('appointment_date')['appointment_id'].count()\n",
    "#line trend analysis\n",
    "peaks.plot(figsize=(12,6), title='Daily Appointment Volume', color='blue')\n",
    "plt.xlabel('Date')\n",
    "plt.ylabel('Number of Appointments')\n",
    "plt.grid()\n",
    "plt.show()"
   ]
  },
  {
   "cell_type": "code",
   "execution_count": 24,
   "id": "85e475ca",
   "metadata": {},
   "outputs": [
    {
     "data": {
      "image/png": "[encoded data removed]",
      "text/plain": [
       "<Figure size 1200x600 with 1 Axes>"
      ]
     },
     "metadata": {},
     "output_type": "display_data"
    }
   ],
   "source": [
    "#trend analysis by time\n",
    "peak_time = appointments_data.groupby('appointment_time')['appointment_id'].count()\n",
    "peak_time.plot(figsize=(12,6), title='Appointment Volume by Time of Day', color='green')\n",
    "plt.xlabel('Time of Day')\n",
    "plt.ylabel('Number of Appointments')\n",
    "plt.grid()\n",
    "plt.show()"
   ]
  },
  {
   "cell_type": "code",
   "execution_count": null,
   "id": "645607bd",
   "metadata": {},
   "outputs": [],
   "source": [
    "'''Documentation & Report\n",
    "Dataset Overview\n",
    "This section analyzes hospital operational data, focusing on appointment management, doctor workload, patient distribution, specialization demand, and treatment types. The datasets include:\n",
    "\n",
    "Appointment records (date, time, status, doctor, reason for visit)\n",
    "Doctor details (specialization, branch)\n",
    "Treatment records\n",
    "Key Findings\n",
    "No-Show and Cancellation Analysis\n",
    "\n",
    "A significant number of appointments are marked as \"No-show,\" impacting resource utilization and scheduling efficiency.\n",
    "No-shows vary by doctor and reason for visit, with some doctors and visit reasons experiencing higher rates.\n",
    "Doctor Workload Distribution\n",
    "\n",
    "Appointment volume per doctor is uneven, with some doctors handling significantly more appointments than others.\n",
    "This imbalance may affect staff burnout and patient wait times.\n",
    "Branch Load Distribution\n",
    "\n",
    "Patient distribution across hospital branches is not uniform.\n",
    "Some branches experience higher patient loads, which may strain resources and affect service quality.\n",
    "Specialization Demand\n",
    "\n",
    "Certain medical specializations have higher appointment demand.\n",
    "Understanding specialization trends helps in resource planning and recruitment.\n",
    "Treatment Demand Analysis\n",
    "\n",
    "Some treatment types are more frequently administered, indicating areas of high patient need.\n",
    "No-Show Patterns by Day and Reason\n",
    "\n",
    "No-shows are more common on specific days of the week and for certain visit reasons.\n",
    "Identifying these patterns can help in targeted interventions.\n",
    "Problems Identified\n",
    "High No-Show Rates: Leads to wasted time slots, inefficient use of staff, and lost revenue.\n",
    "Uneven Doctor and Branch Workload: May cause staff fatigue and inconsistent patient experience.\n",
    "Resource Allocation Issues: Demand for certain specializations and treatments may exceed current capacity.\n",
    "Patient Wait Times: Potentially increased due to uneven workload and high demand periods.\n",
    "Possible Solutions\n",
    "Appointment Reminders & Follow-Ups: Use automated reminders and confirmations to reduce no-shows.\n",
    "Flexible Scheduling: Adjust doctor schedules and appointment slots based on demand patterns.\n",
    "Resource Reallocation: Allocate more staff and resources to high-demand branches and specializations.\n",
    "Monitor and Address Peak Times: Analyze appointment time trends to optimize staffing during busy periods.\n",
    "Patient Education: Inform patients about the impact of no-shows and encourage timely cancellations or rescheduling.\n",
    "Data-Driven Planning: Use ongoing data analysis to guide hiring, training, and resource investments.\n",
    "Summary:\n",
    "The operational analysis highlights the need for improved scheduling, resource allocation, and patient engagement strategies. Addressing no-shows, balancing workloads, and responding to demand trends will enhance hospital efficiency, staff satisfaction, and patient care quality.'''"
   ]
  },
  {
   "cell_type": "markdown",
   "id": "d2b24a14",
   "metadata": {},
   "source": [
    "# 👥 Clinical & Patient Demand Insights"
   ]
  },
  {
   "cell_type": "code",
   "execution_count": null,
   "id": "b51ea1d6",
   "metadata": {},
   "outputs": [
    {
     "name": "stderr",
     "output_type": "stream",
     "text": [
      "C:\\Users\\enosa\\AppData\\Local\\Temp\\ipykernel_132788\\590551068.py:9: FutureWarning: \n",
      "\n",
      "Passing `palette` without assigning `hue` is deprecated and will be removed in v0.14.0. Assign the `x` variable to `hue` and set `legend=False` for the same effect.\n",
      "\n",
      "  sns.barplot(x=patients_data['age_group'].value_counts().sort_index().index, y=patients_data['age_group'].value_counts().sort_index().values, palette='viridis')\n"
     ]
    },
    {
     "data": {
      "image/png": "[encoded data removed]",
      "text/plain": [
       "<Figure size 1000x600 with 1 Axes>"
      ]
     },
     "metadata": {},
     "output_type": "display_data"
    }
   ],
   "source": [
    "# patient age distribution\n",
    "patients_data = pd.read_csv('C:/Users/enosa/OneDrive/Desktop/Data Analysis/Datasets/Hospital management/patients.csv')\n",
    "patients_data['age'] = 2025 -pd.to_datetime(patients_data['date_of_birth']).dt.year\n",
    "bins = [0, 18, 30, 45, 60, 75, 90]\n",
    "labels = ['0-17', '18-29', '30-44', '45-59', '60-74', '75-89']\n",
    "patients_data['age_group'] = pd.cut(patients_data['age'], bins=bins, labels=labels, right=False)\n",
    "patients_data['age_group'].value_counts().sort_index()\n",
    "plt.figure(figsize=(10,6))\n",
    "sns.barplot(x=patients_data['age_group'].value_counts().sort_index().index, y=patients_data['age_group'].value_counts().sort_index().values, palette='viridis')\n",
    "plt.title('Patient Age Distribution')\n",
    "plt.xlabel('Age Group')\n",
    "plt.ylabel('Number of Patients')\n",
    "plt.show()"
   ]
  },
  {
   "cell_type": "code",
   "execution_count": null,
   "id": "447047ae",
   "metadata": {},
   "outputs": [
    {
     "data": {
      "image/png": "[encoded data removed]",
      "text/plain": [
       "<Figure size 800x600 with 1 Axes>"
      ]
     },
     "metadata": {},
     "output_type": "display_data"
    }
   ],
   "source": [
    "# gender distribution\n",
    "patients_gender = patients_data.groupby('gender')['patient_id'].count()\n",
    "patients_gender.plot(kind='bar', color=['blue', 'pink'], figsize=(8,6))\n",
    "plt.title('patient gender distribution')\n",
    "plt.xlabel('gender')\n",
    "plt.ylabel('number of patients')\n",
    "plt.show()"
   ]
  },
  {
   "cell_type": "code",
   "execution_count": null,
   "id": "1bfb3df4",
   "metadata": {},
   "outputs": [
    {
     "data": {
      "image/png": "[encoded data removed]",
      "text/plain": [
       "<Figure size 1200x600 with 1 Axes>"
      ]
     },
     "metadata": {},
     "output_type": "display_data"
    }
   ],
   "source": [
    "#geographic clustering of patients\n",
    "patients_data['address'].value_counts().plot(kind='bar', figsize=(12,6), color='blue')\n",
    "plt.title('Patient Distribution by City')\n",
    "plt.xlabel('City')\n",
    "plt.ylabel('Number of Patients')\n",
    "plt.show()"
   ]
  },
  {
   "cell_type": "code",
   "execution_count": null,
   "id": "985b2b52",
   "metadata": {},
   "outputs": [],
   "source": [
    "treat = pd.read_csv('C:/Users/enosa/OneDrive/Desktop/Data Analysis/Datasets/Hospital management/treatments.csv')\n"
   ]
  },
  {
   "cell_type": "code",
   "execution_count": null,
   "id": "14225f4a",
   "metadata": {},
   "outputs": [
    {
     "data": {
      "application/vnd.microsoft.datawrangler.viewer.v0+json": {
       "columns": [
        {
         "name": "reason_for_visit",
         "rawType": "object",
         "type": "string"
        },
        {
         "name": "Chemotherapy",
         "rawType": "int64",
         "type": "integer"
        },
        {
         "name": "ECG",
         "rawType": "int64",
         "type": "integer"
        },
        {
         "name": "MRI",
         "rawType": "int64",
         "type": "integer"
        },
        {
         "name": "Physiotherapy",
         "rawType": "int64",
         "type": "integer"
        },
        {
         "name": "X-Ray",
         "rawType": "int64",
         "type": "integer"
        }
       ],
       "ref": "5b568e74-9b28-4807-b99f-f15cc4f5362f",
       "rows": [
        [
         "Checkup",
         "8",
         "10",
         "6",
         "10",
         "11"
        ],
        [
         "Consultation",
         "11",
         "6",
         "6",
         "11",
         "9"
        ],
        [
         "Emergency",
         "8",
         "6",
         "7",
         "3",
         "5"
        ],
        [
         "Follow-up",
         "14",
         "5",
         "9",
         "7",
         "6"
        ],
        [
         "Therapy",
         "8",
         "11",
         "8",
         "5",
         "10"
        ]
       ],
       "shape": {
        "columns": 5,
        "rows": 5
       }
      },
      "text/html": [
       "<div>\n",
       "<style scoped>\n",
       "    .dataframe tbody tr th:only-of-type {\n",
       "        vertical-align: middle;\n",
       "    }\n",
       "\n",
       "    .dataframe tbody tr th {\n",
       "        vertical-align: top;\n",
       "    }\n",
       "\n",
       "    .dataframe thead th {\n",
       "        text-align: right;\n",
       "    }\n",
       "</style>\n",
       "<table border=\"1\" class=\"dataframe\">\n",
       "  <thead>\n",
       "    <tr style=\"text-align: right;\">\n",
       "      <th>treatment_type</th>\n",
       "      <th>Chemotherapy</th>\n",
       "      <th>ECG</th>\n",
       "      <th>MRI</th>\n",
       "      <th>Physiotherapy</th>\n",
       "      <th>X-Ray</th>\n",
       "    </tr>\n",
       "    <tr>\n",
       "      <th>reason_for_visit</th>\n",
       "      <th></th>\n",
       "      <th></th>\n",
       "      <th></th>\n",
       "      <th></th>\n",
       "      <th></th>\n",
       "    </tr>\n",
       "  </thead>\n",
       "  <tbody>\n",
       "    <tr>\n",
       "      <th>Checkup</th>\n",
       "      <td>8</td>\n",
       "      <td>10</td>\n",
       "      <td>6</td>\n",
       "      <td>10</td>\n",
       "      <td>11</td>\n",
       "    </tr>\n",
       "    <tr>\n",
       "      <th>Consultation</th>\n",
       "      <td>11</td>\n",
       "      <td>6</td>\n",
       "      <td>6</td>\n",
       "      <td>11</td>\n",
       "      <td>9</td>\n",
       "    </tr>\n",
       "    <tr>\n",
       "      <th>Emergency</th>\n",
       "      <td>8</td>\n",
       "      <td>6</td>\n",
       "      <td>7</td>\n",
       "      <td>3</td>\n",
       "      <td>5</td>\n",
       "    </tr>\n",
       "    <tr>\n",
       "      <th>Follow-up</th>\n",
       "      <td>14</td>\n",
       "      <td>5</td>\n",
       "      <td>9</td>\n",
       "      <td>7</td>\n",
       "      <td>6</td>\n",
       "    </tr>\n",
       "    <tr>\n",
       "      <th>Therapy</th>\n",
       "      <td>8</td>\n",
       "      <td>11</td>\n",
       "      <td>8</td>\n",
       "      <td>5</td>\n",
       "      <td>10</td>\n",
       "    </tr>\n",
       "  </tbody>\n",
       "</table>\n",
       "</div>"
      ],
      "text/plain": [
       "treatment_type    Chemotherapy  ECG  MRI  Physiotherapy  X-Ray\n",
       "reason_for_visit                                              \n",
       "Checkup                      8   10    6             10     11\n",
       "Consultation                11    6    6             11      9\n",
       "Emergency                    8    6    7              3      5\n",
       "Follow-up                   14    5    9              7      6\n",
       "Therapy                      8   11    8              5     10"
      ]
     },
     "execution_count": 44,
     "metadata": {},
     "output_type": "execute_result"
    }
   ],
   "source": [
    "#Treatment Utilization Funnel: Analysis showing which reason_for_visit categories lead to the highest utilization of specific treatment_type (e.g., how many \"annual checkups\" result in an \"X-ray\").\n",
    "# Merge appointments and treatments data\n",
    "merged_data = pd.merge(appointments_data, treat, on='appointment_id')\n",
    "# Group by reason_for_visit and treatment_type to count occurrences\n",
    "merged_data.groupby(['reason_for_visit', 'treatment_type']).size().unstack(fill_value=0)"
   ]
  },
  {
   "cell_type": "code",
   "execution_count": null,
   "id": "80ab7b5b",
   "metadata": {},
   "outputs": [
    {
     "data": {
      "application/vnd.microsoft.datawrangler.viewer.v0+json": {
       "columns": [
        {
         "name": "registration_date",
         "rawType": "object",
         "type": "string"
        },
        {
         "name": "registration_date",
         "rawType": "int64",
         "type": "integer"
        }
       ],
       "ref": "b8c98dd3-df0d-486d-ac57-27f759b5f347",
       "rows": [
        [
         "2021-01-23",
         "1"
        ],
        [
         "2021-03-02",
         "1"
        ],
        [
         "2021-03-09",
         "1"
        ],
        [
         "2021-04-19",
         "1"
        ],
        [
         "2021-05-11",
         "1"
        ],
        [
         "2021-05-13",
         "1"
        ],
        [
         "2021-05-25",
         "1"
        ],
        [
         "2021-07-23",
         "1"
        ],
        [
         "2021-07-31",
         "1"
        ],
        [
         "2021-08-07",
         "1"
        ],
        [
         "2021-08-15",
         "1"
        ],
        [
         "2021-09-02",
         "1"
        ],
        [
         "2021-09-09",
         "1"
        ],
        [
         "2021-09-25",
         "1"
        ],
        [
         "2021-09-29",
         "1"
        ],
        [
         "2021-09-30",
         "1"
        ],
        [
         "2021-10-02",
         "1"
        ],
        [
         "2021-10-16",
         "1"
        ],
        [
         "2021-12-23",
         "1"
        ],
        [
         "2021-12-25",
         "1"
        ],
        [
         "2021-12-27",
         "1"
        ],
        [
         "2022-01-15",
         "1"
        ],
        [
         "2022-01-19",
         "1"
        ],
        [
         "2022-02-07",
         "1"
        ],
        [
         "2022-03-15",
         "1"
        ],
        [
         "2022-04-03",
         "1"
        ],
        [
         "2022-05-20",
         "1"
        ],
        [
         "2022-06-23",
         "1"
        ],
        [
         "2022-06-28",
         "1"
        ],
        [
         "2022-07-16",
         "1"
        ],
        [
         "2022-07-18",
         "1"
        ],
        [
         "2022-08-24",
         "1"
        ],
        [
         "2022-09-18",
         "1"
        ],
        [
         "2022-09-23",
         "1"
        ],
        [
         "2022-09-26",
         "1"
        ],
        [
         "2022-09-27",
         "1"
        ],
        [
         "2022-10-02",
         "1"
        ],
        [
         "2022-10-04",
         "1"
        ],
        [
         "2023-01-26",
         "1"
        ],
        [
         "2023-04-19",
         "1"
        ],
        [
         "2023-04-27",
         "1"
        ],
        [
         "2023-04-28",
         "1"
        ],
        [
         "2023-05-20",
         "1"
        ],
        [
         "2023-06-14",
         "1"
        ],
        [
         "2023-06-18",
         "1"
        ],
        [
         "2023-06-19",
         "1"
        ],
        [
         "2023-06-24",
         "1"
        ],
        [
         "2023-07-09",
         "1"
        ],
        [
         "2023-09-06",
         "1"
        ],
        [
         "2023-12-12",
         "1"
        ]
       ],
       "shape": {
        "columns": 1,
        "rows": 50
       }
      },
      "text/plain": [
       "registration_date\n",
       "2021-01-23    1\n",
       "2021-03-02    1\n",
       "2021-03-09    1\n",
       "2021-04-19    1\n",
       "2021-05-11    1\n",
       "2021-05-13    1\n",
       "2021-05-25    1\n",
       "2021-07-23    1\n",
       "2021-07-31    1\n",
       "2021-08-07    1\n",
       "2021-08-15    1\n",
       "2021-09-02    1\n",
       "2021-09-09    1\n",
       "2021-09-25    1\n",
       "2021-09-29    1\n",
       "2021-09-30    1\n",
       "2021-10-02    1\n",
       "2021-10-16    1\n",
       "2021-12-23    1\n",
       "2021-12-25    1\n",
       "2021-12-27    1\n",
       "2022-01-15    1\n",
       "2022-01-19    1\n",
       "2022-02-07    1\n",
       "2022-03-15    1\n",
       "2022-04-03    1\n",
       "2022-05-20    1\n",
       "2022-06-23    1\n",
       "2022-06-28    1\n",
       "2022-07-16    1\n",
       "2022-07-18    1\n",
       "2022-08-24    1\n",
       "2022-09-18    1\n",
       "2022-09-23    1\n",
       "2022-09-26    1\n",
       "2022-09-27    1\n",
       "2022-10-02    1\n",
       "2022-10-04    1\n",
       "2023-01-26    1\n",
       "2023-04-19    1\n",
       "2023-04-27    1\n",
       "2023-04-28    1\n",
       "2023-05-20    1\n",
       "2023-06-14    1\n",
       "2023-06-18    1\n",
       "2023-06-19    1\n",
       "2023-06-24    1\n",
       "2023-07-09    1\n",
       "2023-09-06    1\n",
       "2023-12-12    1\n",
       "Name: registration_date, dtype: int64"
      ]
     },
     "execution_count": 51,
     "metadata": {},
     "output_type": "execute_result"
    }
   ],
   "source": [
    "# New Patient Acquisition Trends\n",
    "patients_data.groupby('registration_date')['registration_date'].count()"
   ]
  },
  {
   "cell_type": "code",
   "execution_count": null,
   "id": "7a183fc2",
   "metadata": {},
   "outputs": [],
   "source": []
  },
  {
   "cell_type": "code",
   "execution_count": null,
   "id": "b8134b2d",
   "metadata": {},
   "outputs": [
    {
     "data": {
      "text/plain": [
       "<Axes: ylabel='insurance_provider'>"
      ]
     },
     "execution_count": 56,
     "metadata": {},
     "output_type": "execute_result"
    },
    {
     "data": {
      "image/png": "[encoded data removed]",
      "text/plain": [
       "<Figure size 640x480 with 1 Axes>"
      ]
     },
     "metadata": {},
     "output_type": "display_data"
    }
   ],
   "source": [
    "# Insurance Provider Performance: Detailed reporting on the number of patients and total bill amount associated with the top 3-5 largest insurance_provider to evaluate contract value and payment reliability.\n",
    "#merge billing and patients data\n",
    "bill_pat = pd.merge(billing_data,patients_data, on= 'patient_id')\n",
    "bill_pat.groupby('insurance_provider')['amount'].sum().sort_values(ascending=False).plot(kind = 'barh')"
   ]
  }
 ],
 "metadata": {
  "kernelspec": {
   "display_name": "base",
   "language": "python",
   "name": "python3"
  },
  "language_info": {
   "codemirror_mode": {
    "name": "ipython",
    "version": 3
   },
   "file_extension": ".py",
   "mimetype": "text/x-python",
   "name": "python",
   "nbconvert_exporter": "python",
   "pygments_lexer": "ipython3",
   "version": "3.13.5"
  }
 },
 "nbformat": 4,
 "nbformat_minor": 5
}
